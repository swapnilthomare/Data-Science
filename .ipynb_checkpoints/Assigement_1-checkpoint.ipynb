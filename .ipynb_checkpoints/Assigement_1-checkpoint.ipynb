{
 "cells": [
  {
   "cell_type": "markdown",
   "id": "5711de90",
   "metadata": {},
   "source": [
    "# 1) Given two integer numbers return their product only if the product is equal to or lower than 1000, else return their sum.\n",
    " \n"
   ]
  },
  {
   "cell_type": "code",
   "execution_count": 39,
   "id": "cf113624",
   "metadata": {},
   "outputs": [],
   "source": [
    "# here this function \"twonum\" is defined in oreder get solution\n",
    "\n",
    "def twonum(num1,num2): \n",
    "    \n",
    "    if (num1 * num2) <= 1000: # this is the statement for cheking product condition \n",
    "        return num1 * num2\n",
    "    else:\n",
    "        return num1 + num2 \n"
   ]
  },
  {
   "cell_type": "code",
   "execution_count": 40,
   "id": "bd7be644",
   "metadata": {},
   "outputs": [
    {
     "name": "stdout",
     "output_type": "stream",
     "text": [
      "900\n",
      "32\n",
      "here is the answer of the function  932\n"
     ]
    }
   ],
   "source": [
    "num1 = int(input()) # taking input\n",
    "num2 = int(input())\n",
    "\n",
    "answer = twonum(num1,num2) # in this calling the function and storing return output\n",
    "\n",
    "print(\"here is the answer of the function \", answer)   #printing outpu"
   ]
  },
  {
   "cell_type": "code",
   "execution_count": null,
   "id": "902b23f5",
   "metadata": {},
   "outputs": [],
   "source": []
  },
  {
   "cell_type": "code",
   "execution_count": null,
   "id": "fe94c572",
   "metadata": {},
   "outputs": [],
   "source": []
  },
  {
   "cell_type": "markdown",
   "id": "1d1e95c3",
   "metadata": {},
   "source": [
    "# 2) Write a program which will find all such numbers which are divisible by 7 but are not a multiple of 5, between 2000 and 3200 (both included).\n",
    "The numbers obtained should be printed in a comma-separated sequence on a single line.\n"
   ]
  },
  {
   "cell_type": "code",
   "execution_count": 45,
   "id": "3edc867d",
   "metadata": {},
   "outputs": [],
   "source": [
    "def get_numbers(number1,number2):\n",
    "    \n",
    "    for element in range(number1, number2): # getting the numbers using the for loop \n",
    "        \n",
    "        if element % 7 == 0 and element % 5 != 0: #checking the both condition using logical operator\n",
    "            \n",
    "            print(element,end=\",\") #printing the output\n",
    "            "
   ]
  },
  {
   "cell_type": "code",
   "execution_count": 46,
   "id": "c8c04050",
   "metadata": {},
   "outputs": [
    {
     "name": "stdout",
     "output_type": "stream",
     "text": [
      "2002,2009,2016,2023,2037,2044,2051,2058,2072,2079,2086,2093,2107,2114,2121,2128,2142,2149,2156,2163,2177,2184,2191,2198,2212,2219,2226,2233,2247,2254,2261,2268,2282,2289,2296,2303,2317,2324,2331,2338,2352,2359,2366,2373,2387,2394,2401,2408,2422,2429,2436,2443,2457,2464,2471,2478,2492,2499,2506,2513,2527,2534,2541,2548,2562,2569,2576,2583,2597,2604,2611,2618,2632,2639,2646,2653,2667,2674,2681,2688,2702,2709,2716,2723,2737,2744,2751,2758,2772,2779,2786,2793,2807,2814,2821,2828,2842,2849,2856,2863,2877,2884,2891,2898,2912,2919,2926,2933,2947,2954,2961,2968,2982,2989,2996,3003,3017,3024,3031,3038,3052,3059,3066,3073,3087,3094,3101,3108,3122,3129,3136,3143,3157,3164,3171,3178,3192,3199,"
     ]
    }
   ],
   "source": [
    "get_numbers(2000, 3201) # calling the function "
   ]
  },
  {
   "cell_type": "markdown",
   "id": "579cc683",
   "metadata": {},
   "source": []
  },
  {
   "cell_type": "markdown",
   "id": "62fdbebe",
   "metadata": {},
   "source": [
    "# 3) With a given integral number n, write a program to generate a dictionary that contains (i, i*i) such that is an integral number between 1 and n (both included). and then the program should print the dictionary."
   ]
  },
  {
   "cell_type": "code",
   "execution_count": 37,
   "id": "d345be8a",
   "metadata": {},
   "outputs": [],
   "source": [
    "def gen_dict(number):\n",
    "    dict = {} # creating empty Dictonary\n",
    "\n",
    "    for elemnt in range(1, number + 1 ): # for loop for getting the numbers\n",
    "        dict[elemnt]=elemnt*elemnt        # updating the Dictonary\n",
    "    print(dict)                           # Printing Dictonary\n",
    "    \n",
    "    \n",
    "    "
   ]
  },
  {
   "cell_type": "code",
   "execution_count": 38,
   "id": "e9c04ebc",
   "metadata": {},
   "outputs": [
    {
     "name": "stdout",
     "output_type": "stream",
     "text": [
      "8\n",
      "{1: 1, 2: 4, 3: 9, 4: 16, 5: 25, 6: 36, 7: 49, 8: 64}\n"
     ]
    }
   ],
   "source": [
    "number = int(input()) # getting the input\n",
    "gen_dict(number) # calling the function"
   ]
  },
  {
   "cell_type": "code",
   "execution_count": 35,
   "id": "304cad46",
   "metadata": {},
   "outputs": [],
   "source": []
  },
  {
   "cell_type": "code",
   "execution_count": null,
   "id": "36f9578b",
   "metadata": {},
   "outputs": [],
   "source": []
  },
  {
   "cell_type": "markdown",
   "id": "adbb11c9",
   "metadata": {},
   "source": [
    "# 4) Write a program to remove characters from a string starting from zero up to n and return a new string.\n",
    "Hint:- remove_char(\"Infoorigin\",4) so the o/p should be :- origin"
   ]
  },
  {
   "cell_type": "code",
   "execution_count": 49,
   "id": "ff0cea0f",
   "metadata": {},
   "outputs": [],
   "source": [
    "def remove_str(string,number): # defining function\n",
    "    \n",
    "    edit=string[number:] # Sliceing the string\n",
    "    \n",
    "    return edit # returning the new file\n",
    "    \n",
    "    "
   ]
  },
  {
   "cell_type": "code",
   "execution_count": 53,
   "id": "8314f4ad",
   "metadata": {},
   "outputs": [
    {
     "name": "stdout",
     "output_type": "stream",
     "text": [
      "Infoorigin\n",
      "4\n",
      "origin\n"
     ]
    }
   ],
   "source": [
    "string = input()\n",
    "number = int(input())\n",
    "\n",
    "answer = remove_str(string,number) # calling the function\n",
    "print(answer) # printing the answer"
   ]
  },
  {
   "cell_type": "code",
   "execution_count": null,
   "id": "80c8371d",
   "metadata": {},
   "outputs": [],
   "source": []
  },
  {
   "cell_type": "markdown",
   "id": "badfcc9f",
   "metadata": {},
   "source": [
    "# 5) Write a program to check if the given number is a palindrome number.\n",
    "A palindrome number is a number that is same after reverse. For example 545, is the palindrome numbers"
   ]
  },
  {
   "cell_type": "code",
   "execution_count": 28,
   "id": "ed25e86c",
   "metadata": {},
   "outputs": [],
   "source": [
    "def check_palindrome(number):\n",
    "    \n",
    "    number2 = str(number)  # converting number into string\n",
    "    number2 = number2[::-1] # reversing the string\n",
    "    hello = int(number2)   # converting reverse string into number\n",
    "    \n",
    "    # condition  for checking \n",
    "    \n",
    "    if hello == number :   # if the value of both the number is same then it is palindrome\n",
    "         print(\"is palindrome\") \n",
    "    else:\n",
    "        print(\"not a palimdrome\") #if the value of both the number is not same then it is  not a palindrome\n",
    "    \n",
    "    "
   ]
  },
  {
   "cell_type": "code",
   "execution_count": 35,
   "id": "c1968de1",
   "metadata": {},
   "outputs": [
    {
     "name": "stdout",
     "output_type": "stream",
     "text": [
      "545\n",
      "is palidrome\n"
     ]
    }
   ],
   "source": [
    "number= int(input())\n",
    "check_palindrome(number)"
   ]
  },
  {
   "cell_type": "code",
   "execution_count": null,
   "id": "e888bfe4",
   "metadata": {},
   "outputs": [],
   "source": []
  },
  {
   "cell_type": "code",
   "execution_count": null,
   "id": "9769696e",
   "metadata": {},
   "outputs": [],
   "source": []
  },
  {
   "cell_type": "markdown",
   "id": "5cabdc83",
   "metadata": {},
   "source": [
    "# 6) Write a program, which will find all such numbers between 1000 and 3000 (both included) such that each digit of the number is an even number. The numbers obtained should be printed in a comma-separated sequence on a single line.\n"
   ]
  },
  {
   "cell_type": "code",
   "execution_count": 41,
   "id": "86a6a181",
   "metadata": {},
   "outputs": [],
   "source": [
    "def check_all_even(start_number,number_end):\n",
    "    \n",
    "    for elements in range(start_number,number_end+1): # for grtting number\n",
    "        \n",
    "        string = str(elements)  # converting number into string\n",
    "        \n",
    "        all_even =True    # creating flag for taking note\n",
    "        \n",
    "        for number in string:    # iterating over digit of particular number\n",
    "            if int(number) % 2 != 0:   # checking particular digit is even or not.\n",
    "                all_even = False       # if the digit is not even the flag is switch to False and break loop\n",
    "                break\n",
    "        if all_even:\n",
    "            print(elements, end=\", \") # if all digit of number is even then the number is printed"
   ]
  },
  {
   "cell_type": "code",
   "execution_count": 43,
   "id": "7235a979",
   "metadata": {},
   "outputs": [
    {
     "name": "stdout",
     "output_type": "stream",
     "text": [
      "2000, 2002, 2004, 2006, 2008, 2020, 2022, 2024, 2026, 2028, 2040, 2042, 2044, 2046, 2048, 2060, 2062, 2064, 2066, 2068, 2080, 2082, 2084, 2086, 2088, 2200, 2202, 2204, 2206, 2208, 2220, 2222, 2224, 2226, 2228, 2240, 2242, 2244, 2246, 2248, 2260, 2262, 2264, 2266, 2268, 2280, 2282, 2284, 2286, 2288, 2400, 2402, 2404, 2406, 2408, 2420, 2422, 2424, 2426, 2428, 2440, 2442, 2444, 2446, 2448, 2460, 2462, 2464, 2466, 2468, 2480, 2482, 2484, 2486, 2488, 2600, 2602, 2604, 2606, 2608, 2620, 2622, 2624, 2626, 2628, 2640, 2642, 2644, 2646, 2648, 2660, 2662, 2664, 2666, 2668, 2680, 2682, 2684, 2686, 2688, 2800, 2802, 2804, 2806, 2808, 2820, 2822, 2824, 2826, 2828, 2840, 2842, 2844, 2846, 2848, 2860, 2862, 2864, 2866, 2868, 2880, 2882, 2884, 2886, 2888, "
     ]
    }
   ],
   "source": [
    "start_number = 1000\n",
    "number_end = 3000\n",
    "\n",
    "check_all_even(start_number,number_end)"
   ]
  },
  {
   "cell_type": "code",
   "execution_count": null,
   "id": "b43f8d7d",
   "metadata": {},
   "outputs": [],
   "source": []
  },
  {
   "cell_type": "code",
   "execution_count": null,
   "id": "d79a9f99",
   "metadata": {},
   "outputs": [],
   "source": []
  },
  {
   "cell_type": "markdown",
   "id": "e695db65",
   "metadata": {},
   "source": [
    "# 7) Write a program that accepts a sentence and calculate the number of letters and digits.\n",
    "Suppose the following input is supplied to the program:\n",
    "hello world! 123\n",
    "Then, the output should be:\n",
    "LETTERS 10\n",
    "DIGITS 3"
   ]
  },
  {
   "cell_type": "code",
   "execution_count": 44,
   "id": "a62a2017",
   "metadata": {},
   "outputs": [],
   "source": [
    "def count_w_n(string):\n",
    "     \n",
    "        letters = 0  # count of letter default 0\n",
    "        digits = 0   # count of digit  default 0\n",
    "        \n",
    "        for element in string:                  # going through string\n",
    "            \n",
    "            if element.isalpha():               #checking the given word is alphabet or not\n",
    "                letters = letters +1            # if alphabet then increase the count of letter\n",
    "            \n",
    "            elif element.isdigit():              #checking the given word is number or not\n",
    "                digits = digits + 1              # if number then increase the count of digit\n",
    "                \n",
    "        print(\"LETTERS\",letters)\n",
    "        print(\"DIGITS\",digits)        # printing the count of letters,digit"
   ]
  },
  {
   "cell_type": "code",
   "execution_count": 45,
   "id": "cc042cd0",
   "metadata": {},
   "outputs": [
    {
     "name": "stdout",
     "output_type": "stream",
     "text": [
      "hello world! 123\n",
      "LETTERS 10\n",
      "DIGITS 3\n"
     ]
    }
   ],
   "source": [
    "string = input()   # Taking the input\n",
    "\n",
    "count_w_n(string)  # calling the function"
   ]
  },
  {
   "cell_type": "code",
   "execution_count": null,
   "id": "8a2140ba",
   "metadata": {},
   "outputs": [],
   "source": []
  }
 ],
 "metadata": {
  "kernelspec": {
   "display_name": "Python 3 (ipykernel)",
   "language": "python",
   "name": "python3"
  },
  "language_info": {
   "codemirror_mode": {
    "name": "ipython",
    "version": 3
   },
   "file_extension": ".py",
   "mimetype": "text/x-python",
   "name": "python",
   "nbconvert_exporter": "python",
   "pygments_lexer": "ipython3",
   "version": "3.9.13"
  }
 },
 "nbformat": 4,
 "nbformat_minor": 5
}
