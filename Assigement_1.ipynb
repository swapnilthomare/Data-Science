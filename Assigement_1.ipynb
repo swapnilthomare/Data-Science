{
 "cells": [
  {
   "cell_type": "markdown",
   "id": "5711de90",
   "metadata": {},
   "source": [
    "# 1) Given two integer numbers return their product only if the product is equal to or lower than 1000, else return their sum.\n",
    " \n"
   ]
  },
  {
   "cell_type": "markdown",
   "id": "7973f51d",
   "metadata": {},
   "source": [
    " # Algo\n",
    " \n",
    "1] Define a function called twonum that takes in two arguments, num1 and num2.\n",
    "\n",
    "2] Check if the product of num1 and num2 is less than or equal to 1000.\n",
    "\n",
    "3] If the product is less than or equal to 1000, return the product of num1 and num2.\n",
    "\n",
    "4] If the product is greater than 1000, return the sum of num1 and num2."
   ]
  },
  {
   "cell_type": "code",
   "execution_count": 1,
   "id": "cf113624",
   "metadata": {},
   "outputs": [],
   "source": [
    "# here this function \"twonum\" is defined in oreder get solution\n",
    "\n",
    "def twonum(num1,num2): \n",
    "    \n",
    "    if (num1 * num2) <= 1000: # this is the statement for cheking product condition \n",
    "        return num1 * num2\n",
    "    else:\n",
    "        return num1 + num2 \n"
   ]
  },
  {
   "cell_type": "code",
   "execution_count": 4,
   "id": "bd7be644",
   "metadata": {},
   "outputs": [
    {
     "name": "stdout",
     "output_type": "stream",
     "text": [
      "5000\n",
      "-2\n",
      "here is the answer of the function  -10000\n"
     ]
    }
   ],
   "source": [
    "num1 = int(input()) # taking input\n",
    "num2 = int(input())\n",
    "\n",
    "answer = twonum(num1,num2) # in this calling the function and storing return output\n",
    "\n",
    "print(\"here is the answer of the function \", answer)   #printing outpu"
   ]
  },
  {
   "cell_type": "code",
   "execution_count": null,
   "id": "902b23f5",
   "metadata": {},
   "outputs": [],
   "source": []
  },
  {
   "cell_type": "code",
   "execution_count": null,
   "id": "fe94c572",
   "metadata": {},
   "outputs": [],
   "source": []
  },
  {
   "cell_type": "markdown",
   "id": "1d1e95c3",
   "metadata": {},
   "source": [
    "# 2) Write a program which will find all such numbers which are divisible by 7 but are not a multiple of 5, between 2000 and 3200 (both included).\n",
    "The numbers obtained should be printed in a comma-separated sequence on a single line.\n",
    "\n",
    "\n"
   ]
  },
  {
   "cell_type": "markdown",
   "id": "1c12f2b0",
   "metadata": {},
   "source": [
    "# Algo\n",
    "\n",
    "1] Define the function get_numbers(number1, number2).\n",
    "\n",
    "2] Initialize a loop to iterate over the range number1 to number2.\n",
    "\n",
    "3] For each iteration of the loop, check if the element is divisible by 7 using the modulo operator.\n",
    "\n",
    "4] If the element is divisible by 7, check if it is not divisible by 5 using the modulo operator.\n",
    "\n",
    "5] If both conditions are satisfied, print the element followed by a comma.\n",
    "\n",
    "6] After all iterations, end the function.\n",
    "\n"
   ]
  },
  {
   "cell_type": "code",
   "execution_count": 5,
   "id": "3edc867d",
   "metadata": {},
   "outputs": [],
   "source": [
    "def get_numbers(number1,number2):\n",
    "    \n",
    "    for element in range(number1, number2): # getting the numbers using the for loop \n",
    "        \n",
    "        if element % 7 == 0 and element % 5 != 0: #checking the both condition using logical operator\n",
    "            \n",
    "            print(element,end=\",\") #printing the output\n",
    "            "
   ]
  },
  {
   "cell_type": "code",
   "execution_count": 6,
   "id": "c8c04050",
   "metadata": {},
   "outputs": [
    {
     "name": "stdout",
     "output_type": "stream",
     "text": [
      "2002,2009,2016,2023,2037,2044,2051,2058,2072,2079,2086,2093,2107,2114,2121,2128,2142,2149,2156,2163,2177,2184,2191,2198,2212,2219,2226,2233,2247,2254,2261,2268,2282,2289,2296,2303,2317,2324,2331,2338,2352,2359,2366,2373,2387,2394,2401,2408,2422,2429,2436,2443,2457,2464,2471,2478,2492,2499,2506,2513,2527,2534,2541,2548,2562,2569,2576,2583,2597,2604,2611,2618,2632,2639,2646,2653,2667,2674,2681,2688,2702,2709,2716,2723,2737,2744,2751,2758,2772,2779,2786,2793,2807,2814,2821,2828,2842,2849,2856,2863,2877,2884,2891,2898,2912,2919,2926,2933,2947,2954,2961,2968,2982,2989,2996,3003,3017,3024,3031,3038,3052,3059,3066,3073,3087,3094,3101,3108,3122,3129,3136,3143,3157,3164,3171,3178,3192,3199,"
     ]
    }
   ],
   "source": [
    "get_numbers(2000, 3201) # calling the function "
   ]
  },
  {
   "cell_type": "code",
   "execution_count": null,
   "id": "ab191c4c",
   "metadata": {},
   "outputs": [],
   "source": []
  },
  {
   "cell_type": "code",
   "execution_count": null,
   "id": "369f8d48",
   "metadata": {},
   "outputs": [],
   "source": []
  },
  {
   "cell_type": "markdown",
   "id": "62fdbebe",
   "metadata": {},
   "source": [
    "# 3) With a given integral number n, write a program to generate a dictionary that contains (i, i*i) such that is an integral number between 1 and n (both included). and then the program should print the dictionary."
   ]
  },
  {
   "cell_type": "markdown",
   "id": "95db0b20",
   "metadata": {},
   "source": [
    "# Algo\n",
    "\n",
    "1] Define the function gen_dict(number).\n",
    "\n",
    "2] Initialize an empty dictionary dict.\n",
    "\n",
    "3] Initialize a loop to iterate over the range 1 to number + 1.\n",
    "\n",
    "4] For each iteration of the loop, add a key-value pair to the dictionary where the key is the element and the value is the        element squared.\n",
    "\n",
    "5] After all iterations, print the dictionary.\n",
    "   End the function.\n"
   ]
  },
  {
   "cell_type": "code",
   "execution_count": 28,
   "id": "d345be8a",
   "metadata": {},
   "outputs": [],
   "source": [
    "def gen_dict(number):\n",
    "    dict = {} # creating empty Dictonary\n",
    "\n",
    "    for elemnt in range(1, number+1 ): # for loop for getting the numbers\n",
    "        dict[elemnt]=elemnt*elemnt        # updating the Dictonary\n",
    "    print(dict)                           # Printing Dictonary\n",
    "    \n",
    "    \n",
    "    "
   ]
  },
  {
   "cell_type": "code",
   "execution_count": 29,
   "id": "e9c04ebc",
   "metadata": {},
   "outputs": [
    {
     "name": "stdout",
     "output_type": "stream",
     "text": [
      "8\n",
      "{1: 1, 2: 4, 3: 9, 4: 16, 5: 25, 6: 36, 7: 49, 8: 64}\n"
     ]
    }
   ],
   "source": [
    "number = int(input()) # getting the input\n",
    "gen_dict(number) # calling the function"
   ]
  },
  {
   "cell_type": "code",
   "execution_count": 35,
   "id": "304cad46",
   "metadata": {},
   "outputs": [],
   "source": []
  },
  {
   "cell_type": "code",
   "execution_count": null,
   "id": "36f9578b",
   "metadata": {},
   "outputs": [],
   "source": []
  },
  {
   "cell_type": "markdown",
   "id": "adbb11c9",
   "metadata": {},
   "source": [
    "# 4) Write a program to remove characters from a string starting from zero up to n and return a new string.\n",
    "Hint:- remove_char(\"Infoorigin\",4) so the o/p should be :- origin"
   ]
  },
  {
   "cell_type": "markdown",
   "id": "622c588c",
   "metadata": {},
   "source": [
    "# Algo\n",
    "\n",
    "1] Define the function remove_str(string, number) with two argumnet.\n",
    "\n",
    "2] Use string slicing to create a new string called edit by taking a slice of string starting at index number.\n",
    "   Return the value of edit.\n",
    "\n",
    "3] End the function.\n",
    "\n"
   ]
  },
  {
   "cell_type": "code",
   "execution_count": 12,
   "id": "ff0cea0f",
   "metadata": {},
   "outputs": [],
   "source": [
    "def remove_str(string,number): # defining function\n",
    "    \n",
    "    edit=string[number:] # Sliceing the string\n",
    "    \n",
    "    return edit # returning the new file\n",
    "    \n",
    "    "
   ]
  },
  {
   "cell_type": "code",
   "execution_count": 13,
   "id": "8314f4ad",
   "metadata": {},
   "outputs": [
    {
     "name": "stdout",
     "output_type": "stream",
     "text": [
      "infoorigin\n",
      "-4\n",
      "igin\n"
     ]
    }
   ],
   "source": [
    "string = input()\n",
    "number = int(input())\n",
    "\n",
    "answer = remove_str(string,number) # calling the function\n",
    "print(answer) # printing the answer"
   ]
  },
  {
   "cell_type": "code",
   "execution_count": null,
   "id": "80c8371d",
   "metadata": {},
   "outputs": [],
   "source": []
  },
  {
   "cell_type": "code",
   "execution_count": null,
   "id": "1619df80",
   "metadata": {},
   "outputs": [],
   "source": []
  },
  {
   "cell_type": "markdown",
   "id": "c98a0a79",
   "metadata": {},
   "source": [
    "# 5) Write a program to check if the given number is a palindrome number.\n",
    "A palindrome number is a number that is same after reverse. For example 545, is the palindrome numbers"
   ]
  },
  {
   "cell_type": "markdown",
   "id": "a486c59d",
   "metadata": {},
   "source": [
    "# Algo\n",
    "\n",
    "1] Define the function check_palindrome(number).\n",
    "\n",
    "2] Convert the input number to a string and store it in a variable number2.\n",
    "\n",
    "3] Reverse number2 using string slicing and store it in the same variable.\n",
    "\n",
    "4] Convert number2 back to an integer and store it in a variable hello.\n",
    "\n",
    "5] If hello is equal to number, print \"is palindrome\".\n",
    "\n",
    "6] If hello is not equal to number, print \"not a palindrome\".\n",
    "\n",
    "7] End the function.\n"
   ]
  },
  {
   "cell_type": "code",
   "execution_count": 14,
   "id": "ed25e86c",
   "metadata": {},
   "outputs": [],
   "source": [
    "def check_palindrome(number):\n",
    "    \n",
    "    number2 = str(number)  # converting number into string\n",
    "    number2 = number2[::-1] # reversing the string\n",
    "    hello = int(number2)   # converting reverse string into number\n",
    "    \n",
    "    # condition  for checking \n",
    "    \n",
    "    if hello == number :   # if the value of both the number is same then it is palindrome\n",
    "         print(\"is palindrome\") \n",
    "    else:\n",
    "        print(\"not a palimdrome\") #if the value of both the number is not same then it is  not a palindrome\n",
    "    \n",
    "    "
   ]
  },
  {
   "cell_type": "code",
   "execution_count": 16,
   "id": "679aeaf7",
   "metadata": {},
   "outputs": [
    {
     "name": "stdout",
     "output_type": "stream",
     "text": [
      "15151\n",
      "is palindrome\n"
     ]
    }
   ],
   "source": [
    "number= int(input())\n",
    "check_palindrome(number)"
   ]
  },
  {
   "cell_type": "code",
   "execution_count": null,
   "id": "46aea73b",
   "metadata": {},
   "outputs": [],
   "source": []
  },
  {
   "cell_type": "code",
   "execution_count": null,
   "id": "3d2f0d13",
   "metadata": {},
   "outputs": [],
   "source": []
  },
  {
   "cell_type": "markdown",
   "id": "8e815f40",
   "metadata": {},
   "source": [
    "# 6) Write a program, which will find all such numbers between 1000 and 3000 (both included) such that each digit of the number is an even number. The numbers obtained should be printed in a comma-separated sequence on a single line.\n"
   ]
  },
  {
   "cell_type": "markdown",
   "id": "206ad105",
   "metadata": {},
   "source": [
    "# Algo \n",
    "\n",
    "1] Define the function check_all_even(start_number, number_end).\n",
    "\n",
    "2] Initialize a loop to iterate over the range start_number to number_end + 1.\n",
    "\n",
    "3] For each iteration of the loop, convert the element to a string and store it in a variable string.\n",
    "\n",
    "4] Initialize a flag variable all_even to True.\n",
    "\n",
    "5] Initialize another loop to iterate over the digits in string.\n",
    "\n",
    "6] For each iteration of the inner loop, check if the current digit is even using the modulo operator.\n",
    "\n",
    "7] If the digit is not even, set all_even to False and break out of the inner loop.\n",
    "\n",
    "8] After the inner loop, check if all_even is True. If it is, print the element followed by a comma and a space.\n",
    "\n",
    "9] After all iterations, end the function."
   ]
  },
  {
   "cell_type": "code",
   "execution_count": 3,
   "id": "8bb34b4c",
   "metadata": {},
   "outputs": [],
   "source": [
    "def check_all_even(start_number,number_end):\n",
    "    \n",
    "    for elements in range(start_number,number_end+1): # for grtting number\n",
    "        \n",
    "        string = str(elements)  # converting number into string\n",
    "        \n",
    "        all_even =True    # creating flag for taking note\n",
    "        \n",
    "        for number in string:    # iterating over digit of particular number\n",
    "            if int(number) % 2 != 0:   # checking particular digit is even or not.\n",
    "                all_even = False       # if the digit is not even the flag is switch to False and break loop\n",
    "                break\n",
    "        if all_even:\n",
    "            print(elements, end=\" \") # if all digit of number is even then the number is printed"
   ]
  },
  {
   "cell_type": "code",
   "execution_count": 4,
   "id": "d7a33cf3",
   "metadata": {},
   "outputs": [
    {
     "name": "stdout",
     "output_type": "stream",
     "text": [
      "2000, 2002, 2004, 2006, 2008, 2020, 2022, 2024, 2026, 2028, 2040, 2042, 2044, 2046, 2048, 2060, 2062, 2064, 2066, 2068, 2080, 2082, 2084, 2086, 2088, 2200, 2202, 2204, 2206, 2208, 2220, 2222, 2224, 2226, 2228, 2240, 2242, 2244, 2246, 2248, 2260, 2262, 2264, 2266, 2268, 2280, 2282, 2284, 2286, 2288, 2400, 2402, 2404, 2406, 2408, 2420, 2422, 2424, 2426, 2428, 2440, 2442, 2444, 2446, 2448, 2460, 2462, 2464, 2466, 2468, 2480, 2482, 2484, 2486, 2488, 2600, 2602, 2604, 2606, 2608, 2620, 2622, 2624, 2626, 2628, 2640, 2642, 2644, 2646, 2648, 2660, 2662, 2664, 2666, 2668, 2680, 2682, 2684, 2686, 2688, 2800, 2802, 2804, 2806, 2808, 2820, 2822, 2824, 2826, 2828, 2840, 2842, 2844, 2846, 2848, 2860, 2862, 2864, 2866, 2868, 2880, 2882, 2884, 2886, 2888, "
     ]
    }
   ],
   "source": [
    "start_number = 1000\n",
    "number_end = 3000\n",
    "\n",
    "check_all_even(start_number,number_end)"
   ]
  },
  {
   "cell_type": "code",
   "execution_count": null,
   "id": "9dccb5de",
   "metadata": {},
   "outputs": [],
   "source": []
  },
  {
   "cell_type": "code",
   "execution_count": null,
   "id": "7436c355",
   "metadata": {},
   "outputs": [],
   "source": []
  },
  {
   "cell_type": "markdown",
   "id": "048c9113",
   "metadata": {},
   "source": [
    "# 7) Write a program that accepts a sentence and calculate the number of letters and digits.\n",
    "Suppose the following input is supplied to the program:\n",
    "hello world! 123\n",
    "Then, the output should be:\n",
    "LETTERS 10\n",
    "DIGITS 3"
   ]
  },
  {
   "cell_type": "markdown",
   "id": "25faf88d",
   "metadata": {},
   "source": [
    "# Algo \n",
    "\n",
    "1] Define the function count_w_n(string).\n",
    "\n",
    "2] Initialize the variables letters and digits to 0.\n",
    "\n",
    "3] Iterate over the elements in string.\n",
    "\n",
    "4] For each element, check if it is a letter using the isalpha() method. If it is, increment letters by 1.\n",
    "\n",
    "5] If the element is not a letter, check if it is a digit using the isdigit() method. If it is, increment digits by 1.\n",
    "\n",
    "6] After all iterations, print the value of letters as \"LETTERS\" followed by the value, and print the value of digits as \n",
    "   \"DIGITS\" followed by the value.\n",
    "\n",
    "7] End the function."
   ]
  },
  {
   "cell_type": "code",
   "execution_count": 5,
   "id": "d43321c6",
   "metadata": {},
   "outputs": [],
   "source": [
    "def count_w_n(string):\n",
    "     \n",
    "        letters = 0  # count of letter default 0\n",
    "        digits = 0   # count of digit  default 0\n",
    "        \n",
    "        for element in string:                  # going through string\n",
    "            \n",
    "            if element.isalpha():               #checking the given word is alphabet or not\n",
    "                letters = letters +1            # if alphabet then increase the count of letter\n",
    "            \n",
    "            elif element.isdigit():              #checking the given word is number or not\n",
    "                digits = digits + 1              # if number then increase the count of digit\n",
    "                \n",
    "        print(\"LETTERS\",letters)\n",
    "        print(\"DIGITS\",digits)        # printing the count of letters,digit"
   ]
  },
  {
   "cell_type": "code",
   "execution_count": 6,
   "id": "67cb39f1",
   "metadata": {},
   "outputs": [
    {
     "name": "stdout",
     "output_type": "stream",
     "text": [
      "swapnil23\n",
      "LETTERS 7\n",
      "DIGITS 2\n"
     ]
    }
   ],
   "source": [
    "string = input()   # Taking the input\n",
    "\n",
    "count_w_n(string)  # calling the function"
   ]
  },
  {
   "cell_type": "code",
   "execution_count": null,
   "id": "a44bffa1",
   "metadata": {},
   "outputs": [],
   "source": []
  },
  {
   "cell_type": "code",
   "execution_count": null,
   "id": "9c1960b6",
   "metadata": {},
   "outputs": [],
   "source": []
  },
  {
   "cell_type": "markdown",
   "id": "9c0c4e8a",
   "metadata": {},
   "source": [
    "# 8) Read Line number 2 from following file.\n",
    "Create a test.txt file and add random content in it.\n",
    " "
   ]
  },
  {
   "cell_type": "markdown",
   "id": "9ecb6ddc",
   "metadata": {},
   "source": [
    "# algo\n",
    "\n",
    "\n",
    "1] Define the function open_file_read(name, number).\n",
    "\n",
    "2] Use a with statement to open the file specified by name in read mode and assign the file object to a variable f.\n",
    "\n",
    "3] Read all the lines in the file into a list and store it in a variable lines.\n",
    "\n",
    "4] Get the element at index number from the list lines and store it in a variable second_line.\n",
    " \n",
    "5] Print second_line.\n",
    "\n",
    "6] End the function."
   ]
  },
  {
   "cell_type": "code",
   "execution_count": 7,
   "id": "c8a46734",
   "metadata": {},
   "outputs": [],
   "source": [
    "def open_file_read(name,number):\n",
    "    \n",
    "    with open(name, 'r') as f:         # Read the lines into a list\n",
    "        lines = f.readlines()                # getting the data from f obj and storing in lines\n",
    "        second_line = lines[number]                  # geting second line\n",
    "        print(second_line)                 # Printing the line"
   ]
  },
  {
   "cell_type": "code",
   "execution_count": 9,
   "id": "23c4d497",
   "metadata": {},
   "outputs": [
    {
     "name": "stdout",
     "output_type": "stream",
     "text": [
      "hello i am swapnil .\n",
      "\n"
     ]
    }
   ],
   "source": [
    "open_file_read('text_file.txt',0)"
   ]
  },
  {
   "cell_type": "code",
   "execution_count": null,
   "id": "7cae9f42",
   "metadata": {},
   "outputs": [],
   "source": []
  },
  {
   "cell_type": "code",
   "execution_count": null,
   "id": "6ce7f156",
   "metadata": {},
   "outputs": [],
   "source": []
  },
  {
   "cell_type": "markdown",
   "id": "46ba4ea2",
   "metadata": {},
   "source": [
    "# 9) Slice list into 3 equal chunks and reverse each chunk.\n",
    "For eg:- list= [3,5,11,66,3,90,45,43,76]\n",
    "o/p :-\n",
    "Chunk  1 [3,5,11]\n",
    "After reversing it  [11,5,3]\n",
    "Chunk  2 []\n",
    "After reversing it  []\n",
    "Chunk  3 []\n",
    "After reversing it  []"
   ]
  },
  {
   "cell_type": "markdown",
   "id": "2597319e",
   "metadata": {},
   "source": [
    "#  algo \n",
    "\n",
    "1] Define the function slice_and_reverse(input_list).\n",
    "\n",
    "2] Calculate the length of input_list divided by 3 and store the result in a variable chunk_size.\n",
    "\n",
    "3] Create a new list called chunks which contains the following slices of input_list, in order:\n",
    "\n",
    "4] The first chunk_size elements, reversed using string slicing.\n",
    "\n",
    "5] The next chunk_size elements, reversed using string slicing.\n",
    "\n",
    "6] The remaining elements, reversed using string slicing.\n",
    "\n",
    "7] Return the list chunks.\n",
    "\n",
    "8] End the function.\n",
    "\n",
    "\n"
   ]
  },
  {
   "cell_type": "code",
   "execution_count": 19,
   "id": "ac679d7c",
   "metadata": {},
   "outputs": [],
   "source": [
    "def slice_and_reverse(input_list):\n",
    "    \n",
    "    chunk_size = len(input_list) // 3                   # getting the length of list\n",
    "                                               \n",
    "    chunk1 = input_list[:chunk_size]\n",
    "    chunk1_R = chunk1[::-1]\n",
    "    print(\"Chunk  1 \",chunk1)\n",
    "    print(\"After reversing it \",chunk1_R)\n",
    "    \n",
    "    chunk2 = input_list[chunk_size:2*chunk_size]      # slice the list into 3 chunks and reversing\n",
    "    chunk2_R = chunk2[::-1]\n",
    "    print(\"Chunk  2 \",chunk2)\n",
    "    print(\"After reversing it  \",chunk2_R)\n",
    "                        \n",
    "    chunk3 = input_list[2*chunk_size:]\n",
    "    chunk3_R = chunk3[::-1]\n",
    "    print(\"Chunk  3 \",chunk3)\n",
    "    print(\"After reversing it  \",chunk3_R)\n",
    "    \n",
    "\n"
   ]
  },
  {
   "cell_type": "code",
   "execution_count": 20,
   "id": "7efae03a",
   "metadata": {},
   "outputs": [
    {
     "name": "stdout",
     "output_type": "stream",
     "text": [
      "Chunk  1  [3, 5, 11]\n",
      "After reversing it  [11, 5, 3]\n",
      "Chunk  2  [66, 3, 90]\n",
      "After reversing it   [90, 3, 66]\n",
      "Chunk  3  [45, 43, 76]\n",
      "After reversing it   [76, 43, 45]\n"
     ]
    }
   ],
   "source": [
    "slice_and_reverse([3, 5, 11, 66, 3, 90, 45, 43, 76])\n"
   ]
  },
  {
   "cell_type": "code",
   "execution_count": null,
   "id": "8bc5ab2f",
   "metadata": {},
   "outputs": [],
   "source": []
  }
 ],
 "metadata": {
  "kernelspec": {
   "display_name": "Python 3 (ipykernel)",
   "language": "python",
   "name": "python3"
  },
  "language_info": {
   "codemirror_mode": {
    "name": "ipython",
    "version": 3
   },
   "file_extension": ".py",
   "mimetype": "text/x-python",
   "name": "python",
   "nbconvert_exporter": "python",
   "pygments_lexer": "ipython3",
   "version": "3.9.13"
  }
 },
 "nbformat": 4,
 "nbformat_minor": 5
}
