{
 "cells": [
  {
   "cell_type": "markdown",
   "id": "86b2f575",
   "metadata": {},
   "source": [
    "# Algo\n",
    "\n",
    "1] Import the necessary libraries (pandas, sklearn's DecisionTreeRegressor and train_test_split)\n",
    "\n",
    "2] Read in the data from the 'kc_house_data.csv' file using pandas' read_csv function and store it in a variable called 'data'\n",
    "\n",
    "3] Use the dropna() and drop_duplicates() functions to clean the data and remove missing and duplicate values\n",
    "\n",
    "4] Use the drop() function to remove the 'date' column from the dataframe\n",
    "\n",
    "5]Assign the values of the 'price' column to the variable 'y' and drop the 'price' column from the dataframe and store it in 'X'\n",
    "6] Create an instance of the DecisionTreeRegressor model with a random_state value of 0 and store it in the variable 'regressor'\n",
    "7] Fit the regressor with the X_train and y_train data using the fit() function\n",
    "Use the predict() function\n"
   ]
  },
  {
   "cell_type": "code",
   "execution_count": 2,
   "id": "7638488f",
   "metadata": {},
   "outputs": [],
   "source": [
    "import pandas as pd\n",
    "from sklearn.tree import DecisionTreeRegressor\n",
    "from sklearn.model_selection import train_test_split\n"
   ]
  },
  {
   "cell_type": "code",
   "execution_count": 3,
   "id": "d746acb2",
   "metadata": {},
   "outputs": [],
   "source": [
    "# Load the data from the CSV file\n",
    "data = pd.read_csv('kc_house_data.csv')\n"
   ]
  },
  {
   "cell_type": "code",
   "execution_count": 4,
   "id": "ed5bd5e2",
   "metadata": {},
   "outputs": [],
   "source": [
    "data = data.dropna()\n",
    "data = data.drop_duplicates()\n",
    "data = data.drop(['date'], axis=1)"
   ]
  },
  {
   "cell_type": "code",
   "execution_count": 5,
   "id": "c0fc4a9a",
   "metadata": {},
   "outputs": [],
   "source": [
    "# Split the data into features (X) and target (y) variables\n",
    "X = data.drop('price',axis=1)\n",
    "y = data['price']"
   ]
  },
  {
   "cell_type": "code",
   "execution_count": 6,
   "id": "7bc4fe2d",
   "metadata": {},
   "outputs": [],
   "source": [
    "# Split the data into training and testing sets\n",
    "X_train, X_test, y_train, y_test = train_test_split(X, y, test_size=0.2)"
   ]
  },
  {
   "cell_type": "code",
   "execution_count": 7,
   "id": "27b21eb8",
   "metadata": {},
   "outputs": [],
   "source": [
    "# Create a decision tree regressor\n",
    "regressor = DecisionTreeRegressor(random_state=0)\n"
   ]
  },
  {
   "cell_type": "code",
   "execution_count": 8,
   "id": "6547524c",
   "metadata": {},
   "outputs": [
    {
     "data": {
      "text/plain": [
       "DecisionTreeRegressor(random_state=0)"
      ]
     },
     "execution_count": 8,
     "metadata": {},
     "output_type": "execute_result"
    }
   ],
   "source": [
    "# Fit the regressor with X and Y data\n",
    "regressor.fit(X_train, y_train)\n"
   ]
  },
  {
   "cell_type": "code",
   "execution_count": 9,
   "id": "9eca4384",
   "metadata": {},
   "outputs": [],
   "source": [
    "# Use the model to make predictions on the test data\n",
    "y_pred = regressor.predict(X_test)"
   ]
  },
  {
   "cell_type": "code",
   "execution_count": 10,
   "id": "816234ca",
   "metadata": {},
   "outputs": [
    {
     "name": "stdout",
     "output_type": "stream",
     "text": [
      "Score: 0.7682440124949784\n"
     ]
    }
   ],
   "source": [
    "# calculate the coefficient of determination\n",
    "score = regressor.score(X_test,y_test)\n",
    "print('Score:',score)"
   ]
  },
  {
   "cell_type": "code",
   "execution_count": null,
   "id": "92aba802",
   "metadata": {},
   "outputs": [],
   "source": []
  },
  {
   "cell_type": "code",
   "execution_count": null,
   "id": "08cc4e4b",
   "metadata": {},
   "outputs": [],
   "source": []
  },
  {
   "cell_type": "code",
   "execution_count": null,
   "id": "3b6dfe68",
   "metadata": {},
   "outputs": [],
   "source": []
  },
  {
   "cell_type": "code",
   "execution_count": null,
   "id": "70c49bb6",
   "metadata": {},
   "outputs": [],
   "source": []
  },
  {
   "cell_type": "code",
   "execution_count": 20,
   "id": "97c9aad4",
   "metadata": {},
   "outputs": [
    {
     "name": "stdout",
     "output_type": "stream",
     "text": [
      "Mean Squared Error: 37562626660.80147\n",
      "R-squared: 0.7291528906284603\n",
      "Score: 0.7291528906284603\n"
     ]
    }
   ],
   "source": [
    "from sklearn.metrics import mean_squared_error, r2_score\n",
    "\n",
    "# Use the model to make predictions on the test data\n",
    "y_pred = regressor.predict(X_test)\n",
    "\n",
    "# Calculate the mean squared error\n",
    "mse = mean_squared_error(y_test, y_pred)\n",
    "print('Mean Squared Error:', mse)\n",
    "\n",
    "# Calculate the R-squared score\n",
    "r2 = r2_score(y_test, y_pred)\n",
    "print('R-squared:', r2)\n",
    "\n",
    "# calculate the coefficient of determination\n",
    "score = regressor.score(X_test,y_test)\n",
    "print('Score:',score)"
   ]
  },
  {
   "cell_type": "code",
   "execution_count": null,
   "id": "eb378364",
   "metadata": {},
   "outputs": [],
   "source": []
  }
 ],
 "metadata": {
  "kernelspec": {
   "display_name": "Python 3 (ipykernel)",
   "language": "python",
   "name": "python3"
  },
  "language_info": {
   "codemirror_mode": {
    "name": "ipython",
    "version": 3
   },
   "file_extension": ".py",
   "mimetype": "text/x-python",
   "name": "python",
   "nbconvert_exporter": "python",
   "pygments_lexer": "ipython3",
   "version": "3.9.13"
  }
 },
 "nbformat": 4,
 "nbformat_minor": 5
}
