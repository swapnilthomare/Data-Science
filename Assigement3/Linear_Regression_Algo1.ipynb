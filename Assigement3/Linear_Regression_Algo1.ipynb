{
 "cells": [
  {
   "cell_type": "markdown",
   "id": "0b50dbc7",
   "metadata": {},
   "source": [
    "# data set name : Advertising Budget and Saales.csv\n",
    "\n",
    "info about dataset: Advertising Budget and Saales.csv\n",
    "No of Colum in data set = 5 as (0\t,TV Ad Budget ,Radio Ad Budget ,Newspaper Ad Budget,Sales)\n",
    "No of Rows in data set = 20"
   ]
  },
  {
   "cell_type": "code",
   "execution_count": null,
   "id": "dc8ebd8d",
   "metadata": {},
   "outputs": [],
   "source": []
  },
  {
   "cell_type": "markdown",
   "id": "e9b31756",
   "metadata": {},
   "source": [
    "# Algorithm :\n",
    "1] Import necessary libraries such as pandas, sklearn.linear_model, sklearn.model_selection, sklearn.metrics\n",
    "\n",
    "2] Load the data from the CSV file using pandas read_csv() function\n",
    "\n",
    "3] Split the data into features (X) and target (y) variables using pandas slicing\n",
    "\n",
    "4] Split the data into training and testing sets using the train_test_split() function from sklearn.model_selection\n",
    "\n",
    "5] Create a linear regression model using the LinearRegression() class from sklearn.linear_model\n",
    "\n",
    "6] Train the model on the training data using the fit() method\n",
    "\n",
    "7] Print the mean and standard deviation of the cross-validation scores\n",
    "\n",
    "8] Use the model to make predictions on the test data\n",
    "\n",
    "9] Calculate the accuracy metrics o RMSE using mean_squared_error() and sqrt()\n",
    "\n",
    "10] Use the cross_val_score() function from sklearn.model_selection to perform k-fold cross-validation on the linear regression     model \n"
   ]
  },
  {
   "cell_type": "code",
   "execution_count": 1,
   "id": "e33083b7",
   "metadata": {},
   "outputs": [
    {
     "name": "stdout",
     "output_type": "stream",
     "text": [
      "Using matplotlib backend: <object object at 0x00000205482B10B0>\n"
     ]
    }
   ],
   "source": [
    "#importing all libraries in python\n",
    "\n",
    "\n",
    "import pandas as pd             #for importing data and operation on it\n",
    "import numpy as np              # for numerical operation\n",
    "import matplotlib as plt        # for ploting graph\n",
    "%matplotlib\n",
    "from sklearn.linear_model import LinearRegression\n",
    "from sklearn.model_selection import train_test_split\n"
   ]
  },
  {
   "cell_type": "code",
   "execution_count": 2,
   "id": "178e8276",
   "metadata": {},
   "outputs": [],
   "source": [
    "# Load the data from the CSV file\n",
    "\n",
    "data = pd.read_csv('Advertising Budget and Sales.csv')"
   ]
  },
  {
   "cell_type": "code",
   "execution_count": null,
   "id": "d914c268",
   "metadata": {},
   "outputs": [],
   "source": []
  },
  {
   "cell_type": "code",
   "execution_count": 3,
   "id": "f742828f",
   "metadata": {},
   "outputs": [],
   "source": [
    "X = data[['TV Ad Budget ($)', 'Radio Ad Budget ($)','Newspaper Ad Budget ($)']]\n",
    "y = data['Sales ($)']"
   ]
  },
  {
   "cell_type": "code",
   "execution_count": 13,
   "id": "5db27874",
   "metadata": {},
   "outputs": [],
   "source": [
    "# Split the data into training and testing sets\n",
    "\n",
    "X_train, X_test, y_train, y_test = train_test_split(X, y, test_size=0.2)"
   ]
  },
  {
   "cell_type": "code",
   "execution_count": null,
   "id": "e6efaf81",
   "metadata": {},
   "outputs": [],
   "source": []
  },
  {
   "cell_type": "code",
   "execution_count": 14,
   "id": "4e6890ee",
   "metadata": {},
   "outputs": [],
   "source": [
    "# Create a linear regression model\n",
    "\n",
    "model = LinearRegression()"
   ]
  },
  {
   "cell_type": "code",
   "execution_count": 15,
   "id": "ba28e0aa",
   "metadata": {},
   "outputs": [
    {
     "data": {
      "text/plain": [
       "LinearRegression()"
      ]
     },
     "execution_count": 15,
     "metadata": {},
     "output_type": "execute_result"
    }
   ],
   "source": [
    "# Train the model on the training data\n",
    "\n",
    "model.fit(X_train, y_train)"
   ]
  },
  {
   "cell_type": "code",
   "execution_count": 16,
   "id": "aaa6e7f7",
   "metadata": {},
   "outputs": [
    {
     "name": "stdout",
     "output_type": "stream",
     "text": [
      "Intercept: 3.2950047608008006\n",
      "Coefficient: [ 0.04401158  0.1875159  -0.00548052]\n"
     ]
    }
   ],
   "source": [
    "# Print the model coefficients\n",
    "\n",
    "print('Intercept:', model.intercept_)\n",
    "print('Coefficient:', model.coef_)"
   ]
  },
  {
   "cell_type": "code",
   "execution_count": 17,
   "id": "d116eb59",
   "metadata": {},
   "outputs": [],
   "source": [
    "# Use the model to make predictions on the test data\n",
    "\n",
    "y_pred = model.predict(X_test)"
   ]
  },
  {
   "cell_type": "markdown",
   "id": "41df0556",
   "metadata": {},
   "source": [
    "# To check with our given value"
   ]
  },
  {
   "cell_type": "code",
   "execution_count": 29,
   "id": "6cb4d4a7",
   "metadata": {},
   "outputs": [],
   "source": [
    "def Give_input(self):\n",
    "    \n",
    "    print(\"Give the TV Ad Budget  \")\n",
    "    TV_Ad = float(input())\n",
    "    \n",
    "    print(\"Give the Radio Ad Budget  \")\n",
    "    Radio_Ad = float(input()) \n",
    "    \n",
    "    print(\"Give the Newspaper Ad Budget \")\n",
    "    Newspaper_Ad = float(input()) \n",
    "    \n",
    "    newlist = [[TV_Ad,Radio_Ad,Newspaper_Ad]]\n",
    "    \n",
    "    # calling machine learning function \n",
    "    \n",
    "    answer = model.predict(newlist)\n",
    "    \n",
    "    value = 0\n",
    "    \n",
    "    for element in answer:\n",
    "        value = element\n",
    "    \n",
    "    print(\"Your Salse based on your given data is: \",element)\n",
    "    \n",
    "    \n",
    "    "
   ]
  },
  {
   "cell_type": "code",
   "execution_count": 31,
   "id": "d28cb67b",
   "metadata": {},
   "outputs": [
    {
     "name": "stdout",
     "output_type": "stream",
     "text": [
      "Give the TV Ad Budget  \n",
      "199.38\n",
      "Give the Radio Ad Budget  \n",
      "2.6\n",
      "Give the Newspaper Ad Budget \n",
      "21.2\n",
      "Your Salse based on your given data is:  12.664330622240968\n"
     ]
    },
    {
     "name": "stderr",
     "output_type": "stream",
     "text": [
      "C:\\Users\\Swapnil Thomare\\anaconda3\\lib\\site-packages\\sklearn\\base.py:450: UserWarning: X does not have valid feature names, but LinearRegression was fitted with feature names\n",
      "  warnings.warn(\n"
     ]
    }
   ],
   "source": [
    "self = \"Hello\"\n",
    "swapnil = Give_input(self)\n"
   ]
  },
  {
   "cell_type": "code",
   "execution_count": null,
   "id": "16b57398",
   "metadata": {},
   "outputs": [],
   "source": []
  },
  {
   "cell_type": "code",
   "execution_count": null,
   "id": "21173856",
   "metadata": {},
   "outputs": [],
   "source": []
  },
  {
   "cell_type": "markdown",
   "id": "0759b9ca",
   "metadata": {},
   "source": [
    "# RMSE Value"
   ]
  },
  {
   "cell_type": "code",
   "execution_count": 18,
   "id": "23065ee0",
   "metadata": {},
   "outputs": [
    {
     "name": "stdout",
     "output_type": "stream",
     "text": [
      "RMSE: 1.6069644242058791\n"
     ]
    }
   ],
   "source": [
    "# root mean square\n",
    "\n",
    "from sklearn.metrics import mean_squared_error\n",
    "from math import sqrt\n",
    "\n",
    "# Calculate the mean squared error\n",
    "mse = mean_squared_error(y_test, y_pred)\n",
    "\n",
    "# Calculate the root mean squared error\n",
    "rmse = sqrt(mse)\n",
    "print('RMSE:', rmse)"
   ]
  },
  {
   "cell_type": "markdown",
   "id": "c347c59d",
   "metadata": {},
   "source": [
    "# Cross Validation"
   ]
  },
  {
   "cell_type": "code",
   "execution_count": 19,
   "id": "2c44c366",
   "metadata": {},
   "outputs": [
    {
     "name": "stdout",
     "output_type": "stream",
     "text": [
      "Scores: [0.87865198 0.91763212 0.92933032 0.81443904 0.89547829]\n",
      "Mean: 0.8871063495438435\n"
     ]
    }
   ],
   "source": [
    "# cross validation\n",
    "\n",
    "from sklearn.model_selection import cross_val_score\n",
    "\n",
    "# Use 5-fold cross validation to evaluate the model\n",
    "scores = cross_val_score(model, X, y, cv=5)\n",
    "\n",
    "# Print the average and standard deviation of the scores\n",
    "print('Scores:', scores)\n",
    "print('Mean:', scores.mean())"
   ]
  },
  {
   "cell_type": "code",
   "execution_count": null,
   "id": "14f5d31d",
   "metadata": {},
   "outputs": [],
   "source": []
  },
  {
   "cell_type": "code",
   "execution_count": null,
   "id": "4909a795",
   "metadata": {},
   "outputs": [],
   "source": []
  },
  {
   "cell_type": "code",
   "execution_count": 17,
   "id": "3325474a",
   "metadata": {},
   "outputs": [
    {
     "name": "stderr",
     "output_type": "stream",
     "text": [
      "C:\\Users\\Swapnil Thomare\\anaconda3\\lib\\site-packages\\sklearn\\base.py:450: UserWarning: X does not have valid feature names, but LinearRegression was fitted with feature names\n",
      "  warnings.warn(\n"
     ]
    }
   ],
   "source": [
    "New_answer = model.predict([[230.1,37.8,69.2]])"
   ]
  },
  {
   "cell_type": "code",
   "execution_count": 18,
   "id": "848637f0",
   "metadata": {},
   "outputs": [
    {
     "data": {
      "text/plain": [
       "array([20.46802199])"
      ]
     },
     "execution_count": 18,
     "metadata": {},
     "output_type": "execute_result"
    }
   ],
   "source": [
    "New_answer"
   ]
  },
  {
   "cell_type": "code",
   "execution_count": null,
   "id": "06d2ae7a",
   "metadata": {},
   "outputs": [],
   "source": []
  }
 ],
 "metadata": {
  "kernelspec": {
   "display_name": "Python 3 (ipykernel)",
   "language": "python",
   "name": "python3"
  },
  "language_info": {
   "codemirror_mode": {
    "name": "ipython",
    "version": 3
   },
   "file_extension": ".py",
   "mimetype": "text/x-python",
   "name": "python",
   "nbconvert_exporter": "python",
   "pygments_lexer": "ipython3",
   "version": "3.9.13"
  }
 },
 "nbformat": 4,
 "nbformat_minor": 5
}
