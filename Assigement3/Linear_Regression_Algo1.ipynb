{
 "cells": [
  {
   "cell_type": "markdown",
   "id": "0b50dbc7",
   "metadata": {},
   "source": [
    "# data set name : Advertising Budget and Saales.csv\n",
    "\n",
    "info about dataset: Advertising Budget and Saales.csv\n",
    "No of Colum in data set = 5 as (0\t,TV Ad Budget ,Radio Ad Budget ,Newspaper Ad Budget,Sales)\n",
    "No of Rows in data set = 20"
   ]
  },
  {
   "cell_type": "code",
   "execution_count": null,
   "id": "dc8ebd8d",
   "metadata": {},
   "outputs": [],
   "source": []
  },
  {
   "cell_type": "markdown",
   "id": "e9b31756",
   "metadata": {},
   "source": [
    "# Algorithm :\n",
    "1] Import necessary libraries such as pandas, sklearn.linear_model, sklearn.model_selection, sklearn.metrics\n",
    "\n",
    "2] Load the data from the CSV file using pandas read_csv() function\n",
    "\n",
    "3] Split the data into features (X) and target (y) variables using pandas slicing\n",
    "\n",
    "4] Split the data into training and testing sets using the train_test_split() function from sklearn.model_selection\n",
    "\n",
    "5] Create a linear regression model using the LinearRegression() class from sklearn.linear_model\n",
    "\n",
    "6] Train the model on the training data using the fit() method\n",
    "\n",
    "7] Print the mean and standard deviation of the cross-validation scores\n",
    "\n",
    "8] Use the model to make predictions on the test data\n",
    "\n",
    "9] Calculate the accuracy metrics o RMSE using mean_squared_error() and sqrt()\n",
    "\n",
    "10] Use the cross_val_score() function from sklearn.model_selection to perform k-fold cross-validation on the linear regression     model \n"
   ]
  },
  {
   "cell_type": "code",
   "execution_count": 8,
   "id": "e33083b7",
   "metadata": {},
   "outputs": [
    {
     "name": "stdout",
     "output_type": "stream",
     "text": [
      "Using matplotlib backend: QtAgg\n"
     ]
    }
   ],
   "source": [
    "#importing all libraries in python\n",
    "\n",
    "\n",
    "import pandas as pd             #for importing data and operation on it\n",
    "import numpy as np              # for numerical operation\n",
    "import matplotlib as plt        # for ploting graph\n",
    "%matplotlib\n",
    "from sklearn.linear_model import LinearRegression\n",
    "from sklearn.model_selection import train_test_split\n"
   ]
  },
  {
   "cell_type": "code",
   "execution_count": 40,
   "id": "178e8276",
   "metadata": {},
   "outputs": [],
   "source": [
    "# Load the data from the CSV file\n",
    "\n",
    "data = pd.read_csv('Advertising Budget and Sales.csv')"
   ]
  },
  {
   "cell_type": "code",
   "execution_count": 41,
   "id": "88bd95ab",
   "metadata": {},
   "outputs": [],
   "source": [
    "# Split the data into features (X) and target (y) variables\n",
    "\n",
    "X = data[['TV Ad Budget ($)', 'Radio Ad Budget ($)','Newspaper Ad Budget ($)']]\n",
    "y = data['Sales ($)']"
   ]
  },
  {
   "cell_type": "code",
   "execution_count": 42,
   "id": "5db27874",
   "metadata": {},
   "outputs": [],
   "source": [
    "# Split the data into training and testing sets\n",
    "\n",
    "X_train, X_test, y_train, y_test = train_test_split(X, y, test_size=0.2)"
   ]
  },
  {
   "cell_type": "code",
   "execution_count": 43,
   "id": "4e6890ee",
   "metadata": {},
   "outputs": [],
   "source": [
    "# Create a linear regression model\n",
    "\n",
    "model = LinearRegression()"
   ]
  },
  {
   "cell_type": "code",
   "execution_count": 44,
   "id": "ba28e0aa",
   "metadata": {},
   "outputs": [
    {
     "data": {
      "text/plain": [
       "LinearRegression()"
      ]
     },
     "execution_count": 44,
     "metadata": {},
     "output_type": "execute_result"
    }
   ],
   "source": [
    "# Train the model on the training data\n",
    "\n",
    "model.fit(X_train, y_train)"
   ]
  },
  {
   "cell_type": "code",
   "execution_count": 45,
   "id": "aaa6e7f7",
   "metadata": {},
   "outputs": [
    {
     "name": "stdout",
     "output_type": "stream",
     "text": [
      "Intercept: 3.1071314600709243\n",
      "Coefficient: [ 0.04550591  0.18436381 -0.00300868]\n"
     ]
    }
   ],
   "source": [
    "# Print the model coefficients\n",
    "\n",
    "print('Intercept:', model.intercept_)\n",
    "print('Coefficient:', model.coef_)"
   ]
  },
  {
   "cell_type": "code",
   "execution_count": 46,
   "id": "d116eb59",
   "metadata": {},
   "outputs": [],
   "source": [
    "# Use the model to make predictions on the test data\n",
    "\n",
    "y_pred = model.predict(X_test)"
   ]
  },
  {
   "cell_type": "code",
   "execution_count": 39,
   "id": "14f5d31d",
   "metadata": {},
   "outputs": [
    {
     "name": "stdout",
     "output_type": "stream",
     "text": [
      "RMSE: 1.5386836045732217\n"
     ]
    }
   ],
   "source": [
    "# root mean square\n",
    "\n",
    "from sklearn.metrics import mean_squared_error\n",
    "from math import sqrt\n",
    "\n",
    "# Calculate the mean squared error\n",
    "mse = mean_squared_error(y_test, y_pred)\n",
    "\n",
    "# Calculate the root mean squared error\n",
    "rmse = sqrt(mse)\n",
    "print('RMSE:', rmse)"
   ]
  },
  {
   "cell_type": "code",
   "execution_count": 38,
   "id": "4909a795",
   "metadata": {},
   "outputs": [
    {
     "name": "stdout",
     "output_type": "stream",
     "text": [
      "Scores: [0.87865198 0.91763212 0.92933032 0.81443904 0.89547829]\n",
      "Mean: 0.8871063495438435\n"
     ]
    }
   ],
   "source": [
    "# cross validation\n",
    "\n",
    "from sklearn.model_selection import cross_val_score\n",
    "\n",
    "# Use 5-fold cross validation to evaluate the model\n",
    "scores = cross_val_score(model, X, y, cv=5)\n",
    "\n",
    "# Print the average and standard deviation of the scores\n",
    "print('Scores:', scores)\n",
    "print('Mean:', scores.mean())"
   ]
  },
  {
   "cell_type": "code",
   "execution_count": null,
   "id": "3325474a",
   "metadata": {},
   "outputs": [],
   "source": []
  }
 ],
 "metadata": {
  "kernelspec": {
   "display_name": "Python 3 (ipykernel)",
   "language": "python",
   "name": "python3"
  },
  "language_info": {
   "codemirror_mode": {
    "name": "ipython",
    "version": 3
   },
   "file_extension": ".py",
   "mimetype": "text/x-python",
   "name": "python",
   "nbconvert_exporter": "python",
   "pygments_lexer": "ipython3",
   "version": "3.9.13"
  }
 },
 "nbformat": 4,
 "nbformat_minor": 5
}
