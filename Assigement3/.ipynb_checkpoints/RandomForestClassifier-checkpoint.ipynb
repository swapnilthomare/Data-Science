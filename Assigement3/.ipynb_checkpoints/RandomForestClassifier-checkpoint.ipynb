{
 "cells": [
  {
   "cell_type": "markdown",
   "id": "d06203e7",
   "metadata": {},
   "source": [
    "# DataSet\n",
    "\n",
    "winequality-red.csv This dataset contains information about red wine samples, including various chemical properties and a quality score. This dataset could be a good fit for a Random Forest Classifier because it is relatively small (only 1599 samples) but has a relatively high number of features (11). This d used to train a model to predict the quality of a red wine based on its chemical properties."
   ]
  },
  {
   "cell_type": "markdown",
   "id": "f1012e70",
   "metadata": {},
   "source": [
    "# Algo :\n",
    "\n",
    "1] Import necessary libraries for loading and manipulating the data, training and evaluating the classifier, and splitting the data into training and testing sets.\n",
    "\n",
    "2] Load the winequality-red.csv dataset using the pandas library.\n",
    "\n",
    "3] Split the data into features and labels by dropping the 'quality' column from the dataframe and assign it to the variable 'X' and assign the 'quality' column to the variable 'y'\n",
    "\n",
    "4] Split the data into training and testing sets using the train_test_split function.\n",
    "\n",
    "5] Initialize the Random Forest Classifier using the RandomForestClassifier() function.\n",
    "\n",
    "6] Train the classifier on the training data using the fit method.\n",
    "\n",
    "7] Make predictions on the testing data using the predict method.\n",
    "\n",
    "8] Calculate the accuracy of the classifier using the accuracy_score function.\n",
    "\n",
    "9] Print the accuracy of the classifier."
   ]
  },
  {
   "cell_type": "code",
   "execution_count": 1,
   "id": "27dc43e8",
   "metadata": {},
   "outputs": [],
   "source": [
    "# Import necessary libraries\n",
    "import pandas as pd\n",
    "from sklearn.ensemble import RandomForestClassifier\n",
    "from sklearn.model_selection import train_test_split\n",
    "from sklearn.metrics import accuracy_score"
   ]
  },
  {
   "cell_type": "code",
   "execution_count": 2,
   "id": "b6287d06",
   "metadata": {},
   "outputs": [],
   "source": [
    "# Load the dataset\n",
    "df = pd.read_csv('winequality-red.csv')"
   ]
  },
  {
   "cell_type": "code",
   "execution_count": 3,
   "id": "b1f5d731",
   "metadata": {},
   "outputs": [],
   "source": [
    "# Split the data into features and labels\n",
    "X = df.drop('quality', axis=1)\n",
    "y = df['quality']"
   ]
  },
  {
   "cell_type": "code",
   "execution_count": 4,
   "id": "040bb29c",
   "metadata": {},
   "outputs": [],
   "source": [
    "# Split the data into training and testing sets\n",
    "X_train, X_test, y_train, y_test = train_test_split(X, y, test_size=0.2)"
   ]
  },
  {
   "cell_type": "code",
   "execution_count": 5,
   "id": "26fd2947",
   "metadata": {},
   "outputs": [],
   "source": [
    "# Initialize the Random Forest Classifier\n",
    "clf = RandomForestClassifier()"
   ]
  },
  {
   "cell_type": "code",
   "execution_count": 6,
   "id": "e4738713",
   "metadata": {},
   "outputs": [
    {
     "data": {
      "text/plain": [
       "RandomForestClassifier()"
      ]
     },
     "execution_count": 6,
     "metadata": {},
     "output_type": "execute_result"
    }
   ],
   "source": [
    "# Train the classifier on the training data\n",
    "clf.fit(X_train, y_train)"
   ]
  },
  {
   "cell_type": "code",
   "execution_count": 7,
   "id": "5877598f",
   "metadata": {},
   "outputs": [],
   "source": [
    " # Make predictions on the testing data\n",
    "y_pred = clf.predict(X_test)\n"
   ]
  },
  {
   "cell_type": "code",
   "execution_count": 10,
   "id": "8748c6c2",
   "metadata": {},
   "outputs": [
    {
     "name": "stderr",
     "output_type": "stream",
     "text": [
      "C:\\Users\\Swapnil Thomare\\anaconda3\\lib\\site-packages\\sklearn\\metrics\\_classification.py:1318: UndefinedMetricWarning: Precision is ill-defined and being set to 0.0 in labels with no predicted samples. Use `zero_division` parameter to control this behavior.\n",
      "  _warn_prf(average, modifier, msg_start, len(result))\n"
     ]
    }
   ],
   "source": [
    "from sklearn.metrics import accuracy_score, recall_score, precision_score\n",
    "acc = accuracy_score(y_test, y_pred)\n",
    "recall = recall_score(y_test, y_pred, average='macro')\n",
    "precision = precision_score(y_test, y_pred, average='macro')\n"
   ]
  },
  {
   "cell_type": "code",
   "execution_count": 11,
   "id": "0240a88b",
   "metadata": {},
   "outputs": [
    {
     "name": "stdout",
     "output_type": "stream",
     "text": [
      "Acurracy Score  0.69375\n",
      "Recall Score 0.3406608708070764\n",
      "Precision Score 0.36550863900951674\n"
     ]
    }
   ],
   "source": [
    "print(\"Acurracy Score \",acc)\n",
    "print(\"Recall Score\",recall)\n",
    "print(\"Precision Score\",precision)"
   ]
  },
  {
   "cell_type": "markdown",
   "id": "d7100096",
   "metadata": {},
   "source": [
    "# confusion matrix"
   ]
  },
  {
   "cell_type": "code",
   "execution_count": 9,
   "id": "215f87fa",
   "metadata": {},
   "outputs": [
    {
     "name": "stdout",
     "output_type": "stream",
     "text": [
      "[[  0   0   2   0   0   0]\n",
      " [  0   0   9   2   0   0]\n",
      " [  0   0 114  25   0   0]\n",
      " [  0   0  31  92   4   3]\n",
      " [  0   0   2  11  16   2]\n",
      " [  0   0   0   7   0   0]]\n"
     ]
    }
   ],
   "source": [
    "from sklearn.metrics import confusion_matrix\n",
    "\n",
    "# Make predictions on the testing data\n",
    "y_pred = clf.predict(X_test)\n",
    "\n",
    "# Create a confusion matrix\n",
    "cm = confusion_matrix(y_test, y_pred)\n",
    "\n",
    "# Print the confusion matrix\n",
    "print(cm)\n"
   ]
  },
  {
   "cell_type": "code",
   "execution_count": null,
   "id": "2ecce264",
   "metadata": {},
   "outputs": [],
   "source": []
  }
 ],
 "metadata": {
  "kernelspec": {
   "display_name": "Python 3 (ipykernel)",
   "language": "python",
   "name": "python3"
  },
  "language_info": {
   "codemirror_mode": {
    "name": "ipython",
    "version": 3
   },
   "file_extension": ".py",
   "mimetype": "text/x-python",
   "name": "python",
   "nbconvert_exporter": "python",
   "pygments_lexer": "ipython3",
   "version": "3.9.13"
  }
 },
 "nbformat": 4,
 "nbformat_minor": 5
}
