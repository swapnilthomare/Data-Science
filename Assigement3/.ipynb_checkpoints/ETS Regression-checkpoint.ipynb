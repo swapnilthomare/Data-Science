{
 "cells": [
  {
   "cell_type": "markdown",
   "id": "e6ed484b",
   "metadata": {},
   "source": [
    "# Algo :\n",
    "\n",
    "1] Import the necessary libraries.\n",
    "\n",
    "2] Read in the data from the  file using the pandas read_csv() function.\n",
    "\n",
    "3] Set the 'Month' column as the index of the dataframe.\n",
    "\n",
    "4] Convert the index of the dataframe to datetime format using the pandas to_datetime() function.\n",
    "\n",
    "5] Create an ExponentialSmoothing model by passing in the data and specifying the seasonal_periods, trend, and seasonal parameters.\n",
    "\n",
    "6] Fit the model to the data using the fit() function.\n",
    "\n",
    "7] Print the summary of the model using the summary() function.\n",
    "Make predictions for the next 12 months using the predict() function, with the start and end dates set to the last month in the "
   ]
  },
  {
   "cell_type": "code",
   "execution_count": 12,
   "id": "8eea4a34",
   "metadata": {},
   "outputs": [],
   "source": [
    "import pandas as pd\n",
    "import statsmodels.api as sm\n",
    "from statsmodels.tsa.holtwinters import ExponentialSmoothing\n"
   ]
  },
  {
   "cell_type": "code",
   "execution_count": 13,
   "id": "09f4a57e",
   "metadata": {},
   "outputs": [],
   "source": [
    "data = pd.read_csv('perrin-freres-monthly-champagne.csv')"
   ]
  },
  {
   "cell_type": "code",
   "execution_count": 14,
   "id": "1aff23c3",
   "metadata": {},
   "outputs": [],
   "source": [
    "#Define the target variable and the time variable\n",
    "target = \"Sales\"\n",
    "time = \"Month\""
   ]
  },
  {
   "cell_type": "code",
   "execution_count": 15,
   "id": "4975fd34",
   "metadata": {},
   "outputs": [],
   "source": [
    "# Create an instance of the ETS model\n",
    "ets_model = ExponentialSmoothing(data[target], seasonal_periods=12, trend='add', seasonal='multiplicative')\n"
   ]
  },
  {
   "cell_type": "code",
   "execution_count": 16,
   "id": "47b0d5d6",
   "metadata": {},
   "outputs": [],
   "source": [
    "# Fit the model to the data\n",
    "ets_fit = ets_model.fit()\n",
    "\n"
   ]
  },
  {
   "cell_type": "code",
   "execution_count": 11,
   "id": "6d2adaf0",
   "metadata": {},
   "outputs": [
    {
     "name": "stdout",
     "output_type": "stream",
     "text": [
      "                       ExponentialSmoothing Model Results                       \n",
      "================================================================================\n",
      "Dep. Variable:                    Sales   No. Observations:                  105\n",
      "Model:             ExponentialSmoothing   SSE                       36526964.285\n",
      "Optimized:                         True   AIC                           1371.758\n",
      "Trend:                         Additive   BIC                           1414.221\n",
      "Seasonal:                Multiplicative   AICC                          1379.712\n",
      "Seasonal Periods:                    12   Date:                 Thu, 19 Jan 2023\n",
      "Box-Cox:                          False   Time:                         13:07:46\n",
      "Box-Cox Coeff.:                    None                                         \n",
      "=================================================================================\n",
      "                          coeff                 code              optimized      \n",
      "---------------------------------------------------------------------------------\n",
      "smoothing_level               0.0757143                alpha                 True\n",
      "smoothing_trend               0.0001000                 beta                 True\n",
      "smoothing_seasonal            0.3423281                gamma                 True\n",
      "initial_level                 3399.5166                  l.0                 True\n",
      "initial_trend                 28.468298                  b.0                 True\n",
      "initial_seasons.0             0.8310224                  s.0                 True\n",
      "initial_seasons.1             0.7285071                  s.1                 True\n",
      "initial_seasons.2             0.8534936                  s.2                 True\n",
      "initial_seasons.3             0.8685490                  s.3                 True\n",
      "initial_seasons.4             0.9396559                  s.4                 True\n",
      "initial_seasons.5             0.8961044                  s.5                 True\n",
      "initial_seasons.6             0.7383172                  s.6                 True\n",
      "initial_seasons.7             0.4686583                  s.7                 True\n",
      "initial_seasons.8             0.9243357                  s.8                 True\n",
      "initial_seasons.9             1.2123910                  s.9                 True\n",
      "initial_seasons.10            1.7482584                 s.10                 True\n",
      "initial_seasons.11            2.1568643                 s.11                 True\n",
      "---------------------------------------------------------------------------------\n"
     ]
    }
   ],
   "source": [
    "# Print the model summary\n",
    "print(ets_fit.summary())\n"
   ]
  },
  {
   "cell_type": "code",
   "execution_count": 20,
   "id": "4bd8b10c",
   "metadata": {},
   "outputs": [
    {
     "name": "stdout",
     "output_type": "stream",
     "text": [
      "105     7198.568641\n",
      "106    10610.772808\n",
      "107    13519.882023\n",
      "108     4319.253877\n",
      "109     3788.855278\n",
      "110     4684.896710\n",
      "111     4925.887683\n",
      "112     4971.970706\n",
      "113     5337.643849\n",
      "114     4651.144864\n",
      "115     1852.942305\n",
      "116     6156.063085\n",
      "117     7623.334525\n",
      "dtype: float64\n"
     ]
    }
   ],
   "source": [
    "# Define the number of steps for the forecast\n",
    "steps = 12\n",
    "\n",
    "# Make the forecast\n",
    "forecast = ets_fit.predict(start=len(data), end=len(data)+steps)\n",
    "\n",
    "# Print the forecast\n",
    "print(forecast)\n"
   ]
  },
  {
   "cell_type": "code",
   "execution_count": 22,
   "id": "5da7f3ec",
   "metadata": {},
   "outputs": [],
   "source": []
  },
  {
   "cell_type": "code",
   "execution_count": null,
   "id": "e738e60f",
   "metadata": {},
   "outputs": [],
   "source": []
  },
  {
   "cell_type": "code",
   "execution_count": null,
   "id": "57a7b0f6",
   "metadata": {},
   "outputs": [],
   "source": []
  },
  {
   "cell_type": "code",
   "execution_count": null,
   "id": "97c7a140",
   "metadata": {},
   "outputs": [],
   "source": []
  },
  {
   "cell_type": "code",
   "execution_count": null,
   "id": "2b5bcd65",
   "metadata": {},
   "outputs": [],
   "source": []
  },
  {
   "cell_type": "code",
   "execution_count": null,
   "id": "7cf42c6e",
   "metadata": {},
   "outputs": [],
   "source": []
  }
 ],
 "metadata": {
  "kernelspec": {
   "display_name": "Python 3 (ipykernel)",
   "language": "python",
   "name": "python3"
  },
  "language_info": {
   "codemirror_mode": {
    "name": "ipython",
    "version": 3
   },
   "file_extension": ".py",
   "mimetype": "text/x-python",
   "name": "python",
   "nbconvert_exporter": "python",
   "pygments_lexer": "ipython3",
   "version": "3.9.13"
  }
 },
 "nbformat": 4,
 "nbformat_minor": 5
}
