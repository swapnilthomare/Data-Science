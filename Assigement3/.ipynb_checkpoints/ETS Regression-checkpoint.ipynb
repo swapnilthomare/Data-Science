{
 "cells": [
  {
   "cell_type": "markdown",
   "id": "e6ed484b",
   "metadata": {},
   "source": [
    "# Algo :\n",
    "\n",
    "1] Import the necessary libraries.\n",
    "\n",
    "2] Read in the data from the  file using the pandas read_csv() function.\n",
    "\n",
    "3] Set the 'Month' column as the index of the dataframe.\n",
    "\n",
    "4] Convert the index of the dataframe to datetime format using the pandas to_datetime() function.\n",
    "\n",
    "5] Create an ExponentialSmoothing model by passing in the data and specifying the seasonal_periods, trend, and seasonal parameters.\n",
    "\n",
    "6] Fit the model to the data using the fit() function.\n",
    "\n",
    "7] Print the summary of the model using the summary() function.\n",
    "Make predictions for the next 12 months using the predict() function, with the start and end dates set to the last month in the "
   ]
  },
  {
   "cell_type": "code",
   "execution_count": 1,
   "id": "8eea4a34",
   "metadata": {},
   "outputs": [],
   "source": [
    "import pandas as pd\n",
    "import statsmodels.api as sm\n",
    "from statsmodels.tsa.holtwinters import ExponentialSmoothing\n"
   ]
  },
  {
   "cell_type": "code",
   "execution_count": 2,
   "id": "09f4a57e",
   "metadata": {},
   "outputs": [],
   "source": [
    "data = pd.read_csv('perrin-freres-monthly-champagne.csv')"
   ]
  },
  {
   "cell_type": "code",
   "execution_count": null,
   "id": "1aff23c3",
   "metadata": {},
   "outputs": [],
   "source": []
  },
  {
   "cell_type": "code",
   "execution_count": null,
   "id": "4975fd34",
   "metadata": {},
   "outputs": [],
   "source": [
    "\n",
    "\n",
    "# Make predictions\n",
    "predictions = model.predict(start=df.index[-1], end=df.index[-1] + pd.DateOffset(months=12))\n",
    "print(predictions)\n"
   ]
  },
  {
   "cell_type": "code",
   "execution_count": 6,
   "id": "6d2adaf0",
   "metadata": {},
   "outputs": [],
   "source": [
    "# Set the 'Month' column as the index\n",
    "data = data.set_index('Month')"
   ]
  },
  {
   "cell_type": "code",
   "execution_count": 7,
   "id": "4bd8b10c",
   "metadata": {},
   "outputs": [],
   "source": [
    " #Convert the index to datetime format\n",
    "data.index = pd.to_datetime(data.index)"
   ]
  },
  {
   "cell_type": "code",
   "execution_count": 8,
   "id": "160f0029",
   "metadata": {},
   "outputs": [
    {
     "name": "stderr",
     "output_type": "stream",
     "text": [
      "C:\\Users\\Swapnil Thomare\\anaconda3\\lib\\site-packages\\statsmodels\\tsa\\base\\tsa_model.py:471: ValueWarning: No frequency information was provided, so inferred frequency MS will be used.\n",
      "  self._init_dates(dates, freq)\n"
     ]
    }
   ],
   "source": [
    "# Fit the ETS model to the data\n",
    "model = ExponentialSmoothing(data['Sales'], seasonal_periods=12, trend='add', seasonal='add').fit()\n"
   ]
  },
  {
   "cell_type": "code",
   "execution_count": 9,
   "id": "d66257de",
   "metadata": {},
   "outputs": [
    {
     "name": "stdout",
     "output_type": "stream",
     "text": [
      "                       ExponentialSmoothing Model Results                       \n",
      "================================================================================\n",
      "Dep. Variable:                    Sales   No. Observations:                  105\n",
      "Model:             ExponentialSmoothing   SSE                       50431691.538\n",
      "Optimized:                         True   AIC                           1405.628\n",
      "Trend:                         Additive   BIC                           1448.091\n",
      "Seasonal:                      Additive   AICC                          1413.581\n",
      "Seasonal Periods:                    12   Date:                 Thu, 12 Jan 2023\n",
      "Box-Cox:                          False   Time:                         20:34:35\n",
      "Box-Cox Coeff.:                    None                                         \n",
      "=================================================================================\n",
      "                          coeff                 code              optimized      \n",
      "---------------------------------------------------------------------------------\n",
      "smoothing_level               0.0757938                alpha                 True\n",
      "smoothing_trend               0.0001066                 beta                 True\n",
      "smoothing_seasonal            0.6503908                gamma                 True\n",
      "initial_level                 3399.4879                  l.0                 True\n",
      "initial_trend                 22.419378                  b.0                 True\n",
      "initial_seasons.0            -704.84705                  s.0                 True\n",
      "initial_seasons.1            -1167.4738                  s.1                 True\n",
      "initial_seasons.2            -662.32759                  s.2                 True\n",
      "initial_seasons.3            -593.29376                  s.3                 True\n",
      "initial_seasons.4            -299.24818                  s.4                 True\n",
      "initial_seasons.5            -476.73991                  s.5                 True\n",
      "initial_seasons.6            -1122.7753                  s.6                 True\n",
      "initial_seasons.7            -2409.5097                  s.7                 True\n",
      "initial_seasons.8            -541.85995                  s.8                 True\n",
      "initial_seasons.9             586.50873                  s.9                 True\n",
      "initial_seasons.10            2833.0976                 s.10                 True\n",
      "initial_seasons.11            4558.4424                 s.11                 True\n",
      "---------------------------------------------------------------------------------\n"
     ]
    }
   ],
   "source": [
    "# Print the model summary\n",
    "print(model.summary())"
   ]
  },
  {
   "cell_type": "code",
   "execution_count": 12,
   "id": "ea77c921",
   "metadata": {},
   "outputs": [
    {
     "name": "stdout",
     "output_type": "stream",
     "text": [
      "1972-09-01     5987.869632\n",
      "1972-10-01     7104.768165\n",
      "1972-11-01    10188.518141\n",
      "1972-12-01    13105.945445\n",
      "1973-01-01     4439.838421\n",
      "1973-02-01     3749.721244\n",
      "1973-03-01     4729.388299\n",
      "1973-04-01     4974.047154\n",
      "1973-05-01     4895.843900\n",
      "1973-06-01     5399.706568\n",
      "1973-07-01     4645.471789\n",
      "1973-08-01     1837.445483\n",
      "1973-09-01     6248.525984\n",
      "Freq: MS, dtype: float64\n"
     ]
    }
   ],
   "source": [
    "# Make predictions\n",
    "predictions = model.predict(start=data.index[-1], end=data.index[-1] + pd.DateOffset(months=12))\n",
    "print(predictions)\n"
   ]
  },
  {
   "cell_type": "code",
   "execution_count": null,
   "id": "5da7f3ec",
   "metadata": {},
   "outputs": [],
   "source": []
  },
  {
   "cell_type": "code",
   "execution_count": null,
   "id": "5cc8e2de",
   "metadata": {},
   "outputs": [],
   "source": []
  },
  {
   "cell_type": "code",
   "execution_count": null,
   "id": "fc7c924e",
   "metadata": {},
   "outputs": [],
   "source": []
  }
 ],
 "metadata": {
  "kernelspec": {
   "display_name": "Python 3 (ipykernel)",
   "language": "python",
   "name": "python3"
  },
  "language_info": {
   "codemirror_mode": {
    "name": "ipython",
    "version": 3
   },
   "file_extension": ".py",
   "mimetype": "text/x-python",
   "name": "python",
   "nbconvert_exporter": "python",
   "pygments_lexer": "ipython3",
   "version": "3.9.13"
  }
 },
 "nbformat": 4,
 "nbformat_minor": 5
}
