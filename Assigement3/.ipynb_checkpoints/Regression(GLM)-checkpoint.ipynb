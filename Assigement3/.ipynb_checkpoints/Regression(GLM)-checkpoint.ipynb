{
 "cells": [
  {
   "cell_type": "markdown",
   "id": "0f8325e8",
   "metadata": {},
   "source": [
    "# Algo :\n",
    "\n",
    "1] Import the necessary libraries, including pandas and statsmodels.formula.api.\n",
    "\n",
    "2] Load the data from the Reg_kc_house_data.csv file into a Pandas dataframe.\n",
    "\n",
    "3] Specify the model formula by defining the response variable and predictor variables.\n",
    "\n",
    "4] Fit the model to the data by using the glm function from statsmodels.formula.api, passing in the formula, data, and \n",
    "\n",
    "5]specifying the family distribution (e.g. Gaussian)\n",
    "\n",
    "6]Extract the model fit by calling .fit() on the model.\n",
    "\n",
    "7]Print the model summary by calling .summary() on the model fit.\n"
   ]
  },
  {
   "cell_type": "code",
   "execution_count": 1,
   "id": "9aed2220",
   "metadata": {},
   "outputs": [],
   "source": [
    "# importing the libreary\n",
    "import pandas as pd\n",
    "import statsmodels.formula.api as smf"
   ]
  },
  {
   "cell_type": "code",
   "execution_count": 2,
   "id": "86d44be9",
   "metadata": {},
   "outputs": [],
   "source": [
    "# Load the data\n",
    "data = pd.read_csv(\"kc_house_data.csv\")"
   ]
  },
  {
   "cell_type": "code",
   "execution_count": 4,
   "id": "d26fbac8",
   "metadata": {},
   "outputs": [],
   "source": [
    "# Specify the model formula\n",
    "formula = \"price ~ sqft_living + bedrooms + bathrooms + condition + grade\""
   ]
  },
  {
   "cell_type": "code",
   "execution_count": 7,
   "id": "321464d4",
   "metadata": {},
   "outputs": [],
   "source": [
    "# Fit the model to the data\n",
    "model = smf.glm(formula=formula, data=data)\n",
    "result = model.fit()"
   ]
  },
  {
   "cell_type": "code",
   "execution_count": 8,
   "id": "d0c245a1",
   "metadata": {},
   "outputs": [
    {
     "name": "stdout",
     "output_type": "stream",
     "text": [
      "                 Generalized Linear Model Regression Results                  \n",
      "==============================================================================\n",
      "Dep. Variable:                  price   No. Observations:                21613\n",
      "Model:                            GLM   Df Residuals:                    21607\n",
      "Model Family:                Gaussian   Df Model:                            5\n",
      "Link Function:               identity   Scale:                      5.9861e+10\n",
      "Method:                          IRLS   Log-Likelihood:            -2.9883e+05\n",
      "Date:                Thu, 12 Jan 2023   Deviance:                   1.2934e+15\n",
      "Time:                        16:52:07   Pearson chi2:                 1.29e+15\n",
      "No. Iterations:                     3   Pseudo R-squ. (CS):             0.7140\n",
      "Covariance Type:            nonrobust                                         \n",
      "===============================================================================\n",
      "                  coef    std err          z      P>|z|      [0.025      0.975]\n",
      "-------------------------------------------------------------------------------\n",
      "Intercept   -7.405e+05   1.81e+04    -40.917      0.000   -7.76e+05   -7.05e+05\n",
      "sqft_living   219.5168      3.539     62.025      0.000     212.580     226.453\n",
      "bedrooms     -4.34e+04   2264.977    -19.162      0.000   -4.78e+04    -3.9e+04\n",
      "bathrooms   -1.767e+04   3451.207     -5.120      0.000   -2.44e+04   -1.09e+04\n",
      "condition    6.473e+04   2611.550     24.786      0.000    5.96e+04    6.98e+04\n",
      "grade        1.028e+05   2298.989     44.707      0.000    9.83e+04    1.07e+05\n",
      "===============================================================================\n"
     ]
    }
   ],
   "source": [
    "# Print the model summary\n",
    "print(result.summary())\n"
   ]
  },
  {
   "cell_type": "code",
   "execution_count": null,
   "id": "2c14ba15",
   "metadata": {},
   "outputs": [],
   "source": [
    "\n"
   ]
  },
  {
   "cell_type": "code",
   "execution_count": null,
   "id": "2bb1a061",
   "metadata": {},
   "outputs": [],
   "source": []
  }
 ],
 "metadata": {
  "kernelspec": {
   "display_name": "Python 3 (ipykernel)",
   "language": "python",
   "name": "python3"
  },
  "language_info": {
   "codemirror_mode": {
    "name": "ipython",
    "version": 3
   },
   "file_extension": ".py",
   "mimetype": "text/x-python",
   "name": "python",
   "nbconvert_exporter": "python",
   "pygments_lexer": "ipython3",
   "version": "3.9.13"
  }
 },
 "nbformat": 4,
 "nbformat_minor": 5
}
