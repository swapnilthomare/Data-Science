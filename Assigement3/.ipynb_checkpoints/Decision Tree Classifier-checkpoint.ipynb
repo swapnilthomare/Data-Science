{
 "cells": [
  {
   "cell_type": "markdown",
   "id": "f11dc14f",
   "metadata": {},
   "source": [
    "# dataset \n",
    "\n",
    "Why this data set ?\n",
    "-> winequality-red.csv contains information about various characteristics of red wines, such as acidity and alcohol content, as    well as a quality score.  a classification task where the goal is to predict th quality of a wine based on its physical and      chemical properties."
   ]
  },
  {
   "cell_type": "markdown",
   "id": "09d66611",
   "metadata": {},
   "source": [
    "# Algo :\n",
    "\n",
    "1] Import the necessary libraries, including pandas and DecisionTreeClassifier from sklearn.tree, and train_test_split and \n",
    "\n",
    "2] accuracy_score from sklearn.model_selection and sklearn.metrics respectively.\n",
    "\n",
    "3] Load the winequality-red.csv data into a Pandas dataframe using the pd.read_csv() function.\n",
    "\n",
    "4] Split the data into features and labels by dropping the \"quality\" column from the dataframe and storing it in the y       variable.\n",
    "\n",
    "5] Use the train_test_split() function to split the data into training and test sets.\n",
    "\n",
    "6] Initialize the Decision Tree Classifier by creating an instance of the DecisionTreeClassifier() class.\n",
    "\n",
    "7] Fit the classifier on the training data using the fit() function.\n",
    "\n",
    "8] Use the classifier to make predictions on the test data by calling the predict() function on the classifier and passing in the test features.\n",
    "\n",
    "9] Use the accuracy_score() function to calculate the accuracy of the predictions by comparing the predicted labels to the true labels.\n",
    "\n",
    "10] Print the accuracy of the model.\n",
    "\n"
   ]
  },
  {
   "cell_type": "code",
   "execution_count": 3,
   "id": "5e84f75f",
   "metadata": {},
   "outputs": [],
   "source": [
    "import pandas as pd\n",
    "from sklearn.tree import DecisionTreeClassifier\n",
    "from sklearn.model_selection import train_test_split\n",
    "from sklearn.metrics import accuracy_score\n"
   ]
  },
  {
   "cell_type": "code",
   "execution_count": 4,
   "id": "7f86401d",
   "metadata": {},
   "outputs": [],
   "source": [
    "# Load the data\n",
    "data = pd.read_csv(\"winequality-red.csv\")"
   ]
  },
  {
   "cell_type": "code",
   "execution_count": 5,
   "id": "5164a296",
   "metadata": {},
   "outputs": [],
   "source": [
    "\n",
    "# Split the data into features and labels\n",
    "X = data.drop(\"quality\", axis=1)\n",
    "y = data[\"quality\"]\n"
   ]
  },
  {
   "cell_type": "code",
   "execution_count": 6,
   "id": "f2fcbb05",
   "metadata": {},
   "outputs": [],
   "source": [
    "# Split the data into training and test sets\n",
    "X_train, X_test, y_train, y_test = train_test_split(X, y, test_size=0.2, random_state=42)\n"
   ]
  },
  {
   "cell_type": "code",
   "execution_count": 7,
   "id": "2aa55096",
   "metadata": {},
   "outputs": [],
   "source": [
    "# Initialize the Decision Tree Classifier\n",
    "clf = DecisionTreeClassifier()"
   ]
  },
  {
   "cell_type": "code",
   "execution_count": 8,
   "id": "9b1718f5",
   "metadata": {},
   "outputs": [
    {
     "data": {
      "text/plain": [
       "DecisionTreeClassifier()"
      ]
     },
     "execution_count": 8,
     "metadata": {},
     "output_type": "execute_result"
    }
   ],
   "source": [
    "# Train the classifier on the training data\n",
    "clf.fit(X_train, y_train)"
   ]
  },
  {
   "cell_type": "code",
   "execution_count": 9,
   "id": "b22f8318",
   "metadata": {},
   "outputs": [],
   "source": [
    "# Make predictions on the test data\n",
    "y_pred = clf.predict(X_test)"
   ]
  },
  {
   "cell_type": "code",
   "execution_count": 12,
   "id": "5b7294f8",
   "metadata": {},
   "outputs": [
    {
     "name": "stdout",
     "output_type": "stream",
     "text": [
      "Accuracy Score  0.58125\n",
      "Recall Score 0.32821067821067823\n",
      "Precision Score 0.33205069432825834\n"
     ]
    }
   ],
   "source": [
    "from sklearn.metrics import accuracy_score, recall_score, precision_score\n",
    "acc = accuracy_score(y_test, y_pred)\n",
    "recall = recall_score(y_test, y_pred, average='macro')\n",
    "precision = precision_score(y_test, y_pred, average='macro')\n",
    "\n",
    "print(\"Accuracy Score \",acc)\n",
    "print(\"Recall Score\",recall)\n",
    "print(\"Precision Score\",precision)"
   ]
  },
  {
   "cell_type": "code",
   "execution_count": null,
   "id": "3eddd4d2",
   "metadata": {},
   "outputs": [],
   "source": []
  },
  {
   "cell_type": "markdown",
   "id": "22b9f5ea",
   "metadata": {},
   "source": [
    "#  confusion matrix"
   ]
  },
  {
   "cell_type": "code",
   "execution_count": 11,
   "id": "c9bd4e7c",
   "metadata": {},
   "outputs": [
    {
     "name": "stdout",
     "output_type": "stream",
     "text": [
      "[[ 0  0  0  1  0  0]\n",
      " [ 0  0  6  3  1  0]\n",
      " [ 1  3 91 32  3  0]\n",
      " [ 0  3 40 72 15  2]\n",
      " [ 1  1  1 16 22  1]\n",
      " [ 0  0  1  1  2  1]]\n"
     ]
    }
   ],
   "source": [
    "from sklearn.metrics import confusion_matrix\n",
    "\n",
    "# Make predictions on the test data\n",
    "y_pred = clf.predict(X_test)\n",
    "\n",
    "# Create the confusion matrix\n",
    "conf_matrix = confusion_matrix(y_test, y_pred)\n",
    "print(conf_matrix)\n"
   ]
  },
  {
   "cell_type": "code",
   "execution_count": null,
   "id": "86437588",
   "metadata": {},
   "outputs": [],
   "source": []
  }
 ],
 "metadata": {
  "kernelspec": {
   "display_name": "Python 3 (ipykernel)",
   "language": "python",
   "name": "python3"
  },
  "language_info": {
   "codemirror_mode": {
    "name": "ipython",
    "version": 3
   },
   "file_extension": ".py",
   "mimetype": "text/x-python",
   "name": "python",
   "nbconvert_exporter": "python",
   "pygments_lexer": "ipython3",
   "version": "3.9.13"
  }
 },
 "nbformat": 4,
 "nbformat_minor": 5
}
