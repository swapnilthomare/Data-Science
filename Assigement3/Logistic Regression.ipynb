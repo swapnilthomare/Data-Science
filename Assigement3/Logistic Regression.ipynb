{
 "cells": [
  {
   "cell_type": "markdown",
   "id": "06a59d61",
   "metadata": {},
   "source": [
    "# Algo\n",
    "1] Import the necessary libraries.\n",
    "\n",
    "2] Load the data from a CSV file using pandas' read_csv function\n",
    "\n",
    "3] Split the data into features (X) and target (y) variables.\n",
    "\n",
    "4] Split the data into training and testing sets using sklearn's.\n",
    "\n",
    "5] Create a logistic regression model using sklearn's LogisticRegression.\n",
    "\n",
    "6] Train the model on the training data using the fit function\n",
    "\n",
    "7] Use the model to make predictions on the test data using the predict function\n",
    "\n",
    "8] Import additional libraries (sklearn's LogisticRegression and accuracy_score, and numpy)\n",
    "\n",
    "9] Use the model to make predictions on the entire data using the predict function\n",
    "\n",
    "10] Calculate the accuracy of the model using sklearn's accuracy_score function and the predicted and actual values\n",
    "    Print the accuracy of the model."
   ]
  },
  {
   "cell_type": "code",
   "execution_count": null,
   "id": "3fe63e4f",
   "metadata": {},
   "outputs": [],
   "source": []
  },
  {
   "cell_type": "code",
   "execution_count": 1,
   "id": "4d3ad251",
   "metadata": {},
   "outputs": [],
   "source": [
    "import pandas as pd\n",
    "from sklearn.linear_model import LogisticRegression\n",
    "from sklearn.model_selection import train_test_split\n"
   ]
  },
  {
   "cell_type": "code",
   "execution_count": 3,
   "id": "2278198b",
   "metadata": {},
   "outputs": [],
   "source": [
    "# Load the data from the CSV file\n",
    "data = pd.read_csv('iris.data.csv')"
   ]
  },
  {
   "cell_type": "code",
   "execution_count": 8,
   "id": "aaa1326a",
   "metadata": {},
   "outputs": [],
   "source": [
    "# Split the data into features (X) and target (y) variables\n",
    "X = data.drop('Iris-setosa',axis=1)\n",
    "y = data['Iris-setosa']"
   ]
  },
  {
   "cell_type": "code",
   "execution_count": 9,
   "id": "78f3c02a",
   "metadata": {},
   "outputs": [],
   "source": [
    "# Split the data into training and testing sets\n",
    "X_train, X_test, y_train, y_test = train_test_split(X, y, test_size=0.2)\n"
   ]
  },
  {
   "cell_type": "code",
   "execution_count": 10,
   "id": "6a8dc08d",
   "metadata": {},
   "outputs": [],
   "source": [
    "# Create a logistic regression model\n",
    "clf = LogisticRegression(random_state=0, multi_class='ovr')\n"
   ]
  },
  {
   "cell_type": "code",
   "execution_count": 11,
   "id": "13ef0b31",
   "metadata": {},
   "outputs": [
    {
     "data": {
      "text/plain": [
       "LogisticRegression(multi_class='ovr', random_state=0)"
      ]
     },
     "execution_count": 11,
     "metadata": {},
     "output_type": "execute_result"
    }
   ],
   "source": [
    "# Train the model on the training data\n",
    "clf.fit(X_train, y_train)\n"
   ]
  },
  {
   "cell_type": "code",
   "execution_count": 12,
   "id": "c8b0e8d5",
   "metadata": {},
   "outputs": [],
   "source": [
    "# Use the model to make predictions on the test data\n",
    "y_pred = clf.predict(X_test)"
   ]
  },
  {
   "cell_type": "code",
   "execution_count": 14,
   "id": "33d345d2",
   "metadata": {},
   "outputs": [
    {
     "name": "stdout",
     "output_type": "stream",
     "text": [
      "Accuracy: 0.9463087248322147\n"
     ]
    }
   ],
   "source": [
    "# accuracy score\n",
    "from sklearn.linear_model import LogisticRegression\n",
    "from sklearn.metrics import accuracy_score\n",
    "import numpy as np\n",
    "\n",
    "\n",
    "y_pred = clf.predict(X)\n",
    "acc = accuracy_score(y, y_pred)\n",
    "print('Accuracy:', acc)"
   ]
  },
  {
   "cell_type": "code",
   "execution_count": null,
   "id": "71698b0f",
   "metadata": {},
   "outputs": [],
   "source": []
  }
 ],
 "metadata": {
  "kernelspec": {
   "display_name": "Python 3 (ipykernel)",
   "language": "python",
   "name": "python3"
  },
  "language_info": {
   "codemirror_mode": {
    "name": "ipython",
    "version": 3
   },
   "file_extension": ".py",
   "mimetype": "text/x-python",
   "name": "python",
   "nbconvert_exporter": "python",
   "pygments_lexer": "ipython3",
   "version": "3.9.13"
  }
 },
 "nbformat": 4,
 "nbformat_minor": 5
}
