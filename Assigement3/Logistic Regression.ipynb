{
 "cells": [
  {
   "cell_type": "markdown",
   "id": "06a59d61",
   "metadata": {},
   "source": [
    "# Algo\n",
    "1] Import the necessary libraries.\n",
    "\n",
    "2] Load the data from a CSV file using pandas' read_csv function\n",
    "\n",
    "3] Split the data into features (X) and target (y) variables.\n",
    "\n",
    "4] Split the data into training and testing sets using sklearn's.\n",
    "\n",
    "5] Create a logistic regression model using sklearn's LogisticRegression.\n",
    "\n",
    "6] Train the model on the training data using the fit function\n",
    "\n",
    "7] Use the model to make predictions on the test data using the predict function\n",
    "\n",
    "8] Import additional libraries (sklearn's LogisticRegression and accuracy_score, and numpy)\n",
    "\n",
    "9] Use the model to make predictions on the entire data using the predict function\n",
    "\n",
    "10] Calculate the accuracy of the model using sklearn's accuracy_score function and the predicted and actual values\n",
    "    Print the accuracy of the model."
   ]
  },
  {
   "cell_type": "code",
   "execution_count": null,
   "id": "3fe63e4f",
   "metadata": {},
   "outputs": [],
   "source": []
  },
  {
   "cell_type": "code",
   "execution_count": 3,
   "id": "4d3ad251",
   "metadata": {},
   "outputs": [],
   "source": [
    "import pandas as pd\n",
    "from sklearn.linear_model import LogisticRegression\n",
    "from sklearn.model_selection import train_test_split\n"
   ]
  },
  {
   "cell_type": "code",
   "execution_count": 4,
   "id": "2278198b",
   "metadata": {},
   "outputs": [],
   "source": [
    "# Load the data from the CSV file\n",
    "data = pd.read_csv('iris.data.csv')"
   ]
  },
  {
   "cell_type": "code",
   "execution_count": 5,
   "id": "b008054b",
   "metadata": {},
   "outputs": [
    {
     "name": "stdout",
     "output_type": "stream",
     "text": [
      "     sepal_length  sepal_width  petal_length  petal_width         species\n",
      "0             4.9          3.0           1.4          0.2     Iris-setosa\n",
      "1             4.7          3.2           1.3          0.2     Iris-setosa\n",
      "2             4.6          3.1           1.5          0.2     Iris-setosa\n",
      "3             5.0          3.6           1.4          0.2     Iris-setosa\n",
      "4             5.4          3.9           1.7          0.4     Iris-setosa\n",
      "..            ...          ...           ...          ...             ...\n",
      "144           6.7          3.0           5.2          2.3  Iris-virginica\n",
      "145           6.3          2.5           5.0          1.9  Iris-virginica\n",
      "146           6.5          3.0           5.2          2.0  Iris-virginica\n",
      "147           6.2          3.4           5.4          2.3  Iris-virginica\n",
      "148           5.9          3.0           5.1          1.8  Iris-virginica\n",
      "\n",
      "[149 rows x 5 columns]\n"
     ]
    }
   ],
   "source": [
    "import pandas as pd\n",
    "\n",
    "# Read in the Iris dataset\n",
    "iris = pd.read_csv(\"iris.data.csv\")\n",
    "\n",
    "# Assign new column names\n",
    "iris.columns = [\"sepal_length\", \"sepal_width\", \"petal_length\", \"petal_width\", \"species\"]\n",
    "\n",
    "# Print the dataset to verify the changes\n",
    "print(iris)\n"
   ]
  },
  {
   "cell_type": "code",
   "execution_count": 6,
   "id": "aaa1326a",
   "metadata": {},
   "outputs": [],
   "source": [
    "# Split the data into features (X) and target (y) variables\n",
    "X = iris.drop('species',axis=1)\n",
    "y = iris['species']"
   ]
  },
  {
   "cell_type": "code",
   "execution_count": 7,
   "id": "78f3c02a",
   "metadata": {},
   "outputs": [],
   "source": [
    "# Split the data into training and testing sets\n",
    "X_train, X_test, y_train, y_test = train_test_split(X, y, test_size=0.2)\n"
   ]
  },
  {
   "cell_type": "code",
   "execution_count": 8,
   "id": "6a8dc08d",
   "metadata": {},
   "outputs": [],
   "source": [
    "# Create a logistic regression model\n",
    "clf = LogisticRegression(random_state=0, multi_class='ovr')\n"
   ]
  },
  {
   "cell_type": "code",
   "execution_count": 9,
   "id": "13ef0b31",
   "metadata": {},
   "outputs": [
    {
     "data": {
      "text/plain": [
       "LogisticRegression(multi_class='ovr', random_state=0)"
      ]
     },
     "execution_count": 9,
     "metadata": {},
     "output_type": "execute_result"
    }
   ],
   "source": [
    "# Train the model on the training data\n",
    "clf.fit(X_train, y_train)\n"
   ]
  },
  {
   "cell_type": "code",
   "execution_count": 10,
   "id": "c8b0e8d5",
   "metadata": {},
   "outputs": [],
   "source": [
    "# Use the model to make predictions on the test data\n",
    "y_pred = clf.predict(X_test)"
   ]
  },
  {
   "cell_type": "code",
   "execution_count": 11,
   "id": "33d345d2",
   "metadata": {},
   "outputs": [
    {
     "name": "stdout",
     "output_type": "stream",
     "text": [
      "Accuracy: 0.9395973154362416\n"
     ]
    }
   ],
   "source": [
    "# accuracy score\n",
    "from sklearn.linear_model import LogisticRegression\n",
    "from sklearn.metrics import accuracy_score\n",
    "import numpy as np\n",
    "\n",
    "\n",
    "y_pred = clf.predict(X)\n",
    "acc = accuracy_score(y, y_pred)\n",
    "print('Accuracy:', acc)"
   ]
  },
  {
   "cell_type": "code",
   "execution_count": null,
   "id": "09e1121f",
   "metadata": {},
   "outputs": [],
   "source": []
  },
  {
   "cell_type": "markdown",
   "id": "3400dd3e",
   "metadata": {},
   "source": [
    "# To get input from user"
   ]
  },
  {
   "cell_type": "code",
   "execution_count": 16,
   "id": "5dbeebb8",
   "metadata": {},
   "outputs": [],
   "source": [
    "def Give_input(self):\n",
    "    \n",
    "    print(\"Give the sepal_length  \")\n",
    "    sepal_length = float(input())\n",
    "    \n",
    "    print(\"Give the sepal_width  \")\n",
    "    sepal_width = float(input()) \n",
    "    \n",
    "    print(\"Give the petal_length \")\n",
    "    petal_length = float(input()) \n",
    "    \n",
    "    print(\"Give the petal_width \")\n",
    "    petal_width = float(input())\n",
    "    \n",
    "    newlist = [[sepal_length,sepal_width,petal_length,petal_width]]\n",
    "    \n",
    "    # calling machine learning function \n",
    "    \n",
    "    answer = clf.predict(newlist)\n",
    "    \n",
    "    value = 0\n",
    "    \n",
    "    for element in answer:\n",
    "        value = element\n",
    "    \n",
    "    print(\" on the basis of your given data the species is : \",value)\n",
    "    \n",
    "    "
   ]
  },
  {
   "cell_type": "code",
   "execution_count": 17,
   "id": "b0f12785",
   "metadata": {},
   "outputs": [
    {
     "name": "stdout",
     "output_type": "stream",
     "text": [
      "Give the sepal_length  \n",
      "4.9\n",
      "Give the sepal_width  \n",
      "3.0\n",
      "Give the petal_length \n",
      "1.4\n",
      "Give the petal_width \n",
      "0.2\n",
      " on the basis of your given data the species is :  Iris-setosa\n"
     ]
    },
    {
     "name": "stderr",
     "output_type": "stream",
     "text": [
      "C:\\Users\\Swapnil Thomare\\anaconda3\\lib\\site-packages\\sklearn\\base.py:450: UserWarning: X does not have valid feature names, but LogisticRegression was fitted with feature names\n",
      "  warnings.warn(\n"
     ]
    }
   ],
   "source": [
    "self = \"hello\"\n",
    "Give_input(self)"
   ]
  },
  {
   "cell_type": "code",
   "execution_count": null,
   "id": "7964984f",
   "metadata": {},
   "outputs": [],
   "source": []
  },
  {
   "cell_type": "code",
   "execution_count": null,
   "id": "ceddfb10",
   "metadata": {},
   "outputs": [],
   "source": []
  }
 ],
 "metadata": {
  "kernelspec": {
   "display_name": "Python 3 (ipykernel)",
   "language": "python",
   "name": "python3"
  },
  "language_info": {
   "codemirror_mode": {
    "name": "ipython",
    "version": 3
   },
   "file_extension": ".py",
   "mimetype": "text/x-python",
   "name": "python",
   "nbconvert_exporter": "python",
   "pygments_lexer": "ipython3",
   "version": "3.9.13"
  }
 },
 "nbformat": 4,
 "nbformat_minor": 5
}
