{
 "cells": [
  {
   "cell_type": "markdown",
   "id": "ed45653f",
   "metadata": {},
   "source": [
    "# DataSet :\n",
    "\n",
    "winequality-red.csv: This dataset contains information about various red wines, including their chemical properties and quality ratings. It could be used   as determining the quality of a red wine based on its chemical properties.\n",
    "\n"
   ]
  },
  {
   "cell_type": "markdown",
   "id": "ab6ba5f2",
   "metadata": {},
   "source": [
    "# Algo :\n",
    "\n",
    "1] Import necessary libraries.\n",
    "\n",
    "2] Load the dataset.\n",
    "\n",
    "3] Split the data into features and labels.\n",
    "\n",
    "4] Split the data into training and testing sets.\n",
    "\n",
    "5] Train the model.\n",
    "\n",
    "6] Make predictions on the testing set.\n",
    "\n",
    "7] Evaluate the model's performance."
   ]
  },
  {
   "cell_type": "code",
   "execution_count": 1,
   "id": "186f293d",
   "metadata": {},
   "outputs": [],
   "source": [
    "# import necessary libraries\n",
    "import pandas as pd\n",
    "from sklearn.model_selection import train_test_split\n",
    "from sklearn.svm import LinearSVC\n",
    "from sklearn.metrics import accuracy_score, precision_score, recall_score, f1_score\n",
    "\n"
   ]
  },
  {
   "cell_type": "code",
   "execution_count": 2,
   "id": "29a336eb",
   "metadata": {},
   "outputs": [],
   "source": [
    "# load the dataset\n",
    "data = pd.read_csv(\"winequality-red.csv\")\n"
   ]
  },
  {
   "cell_type": "code",
   "execution_count": 3,
   "id": "eb566c97",
   "metadata": {},
   "outputs": [],
   "source": [
    "# split the data into features and labels\n",
    "X = data.drop(\"quality\", axis=1)\n",
    "y = data[\"quality\"]\n"
   ]
  },
  {
   "cell_type": "code",
   "execution_count": 4,
   "id": "1581ba23",
   "metadata": {},
   "outputs": [],
   "source": [
    "# split the data into training and testing sets\n",
    "X_train, X_test, y_train, y_test = train_test_split(X, y, test_size=0.2, random_state=42)"
   ]
  },
  {
   "cell_type": "code",
   "execution_count": 5,
   "id": "782ea7cb",
   "metadata": {},
   "outputs": [
    {
     "name": "stderr",
     "output_type": "stream",
     "text": [
      "C:\\Users\\Swapnil Thomare\\anaconda3\\lib\\site-packages\\sklearn\\svm\\_base.py:1206: ConvergenceWarning: Liblinear failed to converge, increase the number of iterations.\n",
      "  warnings.warn(\n"
     ]
    },
    {
     "data": {
      "text/plain": [
       "LinearSVC(random_state=42)"
      ]
     },
     "execution_count": 5,
     "metadata": {},
     "output_type": "execute_result"
    }
   ],
   "source": [
    "# train the model\n",
    "clf = LinearSVC(random_state=42)\n",
    "clf.fit(X_train, y_train)\n"
   ]
  },
  {
   "cell_type": "code",
   "execution_count": 6,
   "id": "235f5307",
   "metadata": {},
   "outputs": [],
   "source": [
    "# make predictions on the testing set\n",
    "y_pred = clf.predict(X_test)\n"
   ]
  },
  {
   "cell_type": "code",
   "execution_count": 7,
   "id": "76a45973",
   "metadata": {},
   "outputs": [
    {
     "name": "stdout",
     "output_type": "stream",
     "text": [
      "0.5375\n"
     ]
    }
   ],
   "source": [
    "# evaluate the model's performance\n",
    "acc = accuracy_score(y_test, y_pred)\n",
    "print(acc)\n"
   ]
  },
  {
   "cell_type": "code",
   "execution_count": 10,
   "id": "3064d061",
   "metadata": {},
   "outputs": [
    {
     "name": "stdout",
     "output_type": "stream",
     "text": [
      "Accuracy Score  0.5375\n",
      "Recall Score 0.2299173049173049\n",
      "Precision Score 0.22274067521745544\n"
     ]
    },
    {
     "name": "stderr",
     "output_type": "stream",
     "text": [
      "C:\\Users\\Swapnil Thomare\\anaconda3\\lib\\site-packages\\sklearn\\metrics\\_classification.py:1318: UndefinedMetricWarning: Precision is ill-defined and being set to 0.0 in labels with no predicted samples. Use `zero_division` parameter to control this behavior.\n",
      "  _warn_prf(average, modifier, msg_start, len(result))\n"
     ]
    }
   ],
   "source": [
    "from sklearn.metrics import accuracy_score, recall_score, precision_score\n",
    "acc = accuracy_score(y_test, y_pred)\n",
    "recall = recall_score(y_test, y_pred, average='macro')\n",
    "precision = precision_score(y_test, y_pred, average='macro')\n",
    "\n",
    "print(\"Accuracy Score \",acc)\n",
    "print(\"Recall Score\",recall)\n",
    "print(\"Precision Score\",precision)\n"
   ]
  },
  {
   "cell_type": "markdown",
   "id": "fbbde469",
   "metadata": {},
   "source": [
    "# onfusion_matrix"
   ]
  },
  {
   "cell_type": "code",
   "execution_count": 8,
   "id": "bcc6fddf",
   "metadata": {},
   "outputs": [
    {
     "name": "stdout",
     "output_type": "stream",
     "text": [
      "[[ 0  0  1  0  0  0]\n",
      " [ 0  0 10  0  0  0]\n",
      " [ 0  0 99 29  2  0]\n",
      " [ 0  0 56 69  7  0]\n",
      " [ 0  0  4 34  4  0]\n",
      " [ 0  0  0  1  4  0]]\n"
     ]
    }
   ],
   "source": [
    "from sklearn.metrics import confusion_matrix\n",
    "\n",
    "# make predictions on the testing set\n",
    "y_pred = clf.predict(X_test)\n",
    "\n",
    "# generate the confusion matrix\n",
    "conf_mat = confusion_matrix(y_test, y_pred)\n",
    "\n",
    "print(conf_mat)\n"
   ]
  },
  {
   "cell_type": "code",
   "execution_count": null,
   "id": "a1a12f54",
   "metadata": {},
   "outputs": [],
   "source": []
  }
 ],
 "metadata": {
  "kernelspec": {
   "display_name": "Python 3 (ipykernel)",
   "language": "python",
   "name": "python3"
  },
  "language_info": {
   "codemirror_mode": {
    "name": "ipython",
    "version": 3
   },
   "file_extension": ".py",
   "mimetype": "text/x-python",
   "name": "python",
   "nbconvert_exporter": "python",
   "pygments_lexer": "ipython3",
   "version": "3.9.13"
  }
 },
 "nbformat": 4,
 "nbformat_minor": 5
}
