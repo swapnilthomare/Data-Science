{
 "cells": [
  {
   "cell_type": "markdown",
   "id": "68a12ed9",
   "metadata": {},
   "source": [
    "# Data Set name : Reg_kc_house_data.csv\n",
    "\n",
    "dataset consist of 21 columns and 21613 entries \n",
    "\n",
    "the data set describe the house price based on the all parameters"
   ]
  },
  {
   "cell_type": "markdown",
   "id": "64bf935e",
   "metadata": {},
   "source": [
    "# Algo\n",
    "1] Import the necessary libraries (pandas, numpy, sklearn's Ridge and train_test_split)\n",
    "\n",
    "2] Read in the data from the 'kc_house_data.csv' file using pandas' read_csv function and store it in a variable called 'data'\n",
    "\n",
    "3] Assign the values of the 'price' column to the variable 'y' and drop the 'price' column from the dataframe and store it in 'X'\n",
    "\n",
    "4] Use the train_test_split function to split the data into training and testing sets, with X_train, X_test, y_train, and y_test as \n",
    "\n",
    "5] the respective variables and a test size of 0.2\n",
    "\n",
    "6] Create an instance of the Ridge model with an alpha value of 0.1 and store it in the variable 'model'\n",
    "\n",
    "7] Fit the model to the training data using the fit() function\n",
    "\n",
    "8] Use the predict() function to predict the values of y using the X_test data and store the result in y_pred."
   ]
  },
  {
   "cell_type": "code",
   "execution_count": 13,
   "id": "d1bc2245",
   "metadata": {},
   "outputs": [],
   "source": [
    "# importing all libraries in python\n",
    "\n",
    "\n",
    "import pandas as pd                               #for importing data and operation on it\n",
    "import numpy as np                                  # for numerical operation\n",
    "from sklearn.linear_model import Ridge             #   importing Ridge regression model\n",
    "from sklearn.model_selection import train_test_split"
   ]
  },
  {
   "cell_type": "code",
   "execution_count": null,
   "id": "0d31c005",
   "metadata": {},
   "outputs": [],
   "source": []
  },
  {
   "cell_type": "code",
   "execution_count": 32,
   "id": "816dd06e",
   "metadata": {},
   "outputs": [],
   "source": [
    "data = pd.read_csv('kc_house_data.csv')"
   ]
  },
  {
   "cell_type": "code",
   "execution_count": 33,
   "id": "b40db047",
   "metadata": {},
   "outputs": [],
   "source": [
    "data = data.dropna()"
   ]
  },
  {
   "cell_type": "code",
   "execution_count": 34,
   "id": "bfe79a55",
   "metadata": {},
   "outputs": [],
   "source": [
    "data = data.drop_duplicates()"
   ]
  },
  {
   "cell_type": "code",
   "execution_count": 35,
   "id": "48b72311",
   "metadata": {},
   "outputs": [],
   "source": [
    "data = data.drop(['date'], axis=1)"
   ]
  },
  {
   "cell_type": "code",
   "execution_count": 36,
   "id": "121179dc",
   "metadata": {},
   "outputs": [],
   "source": [
    "X = data.drop('price',axis=1)\n",
    "y = data['price']"
   ]
  },
  {
   "cell_type": "code",
   "execution_count": 37,
   "id": "701b1ec9",
   "metadata": {},
   "outputs": [],
   "source": [
    "X_train, X_test, y_train, y_test = train_test_split(X, y, test_size=0.2)\n"
   ]
  },
  {
   "cell_type": "code",
   "execution_count": 38,
   "id": "8b9c6e5a",
   "metadata": {},
   "outputs": [],
   "source": [
    "model = Ridge(alpha=0.1)\n"
   ]
  },
  {
   "cell_type": "code",
   "execution_count": 39,
   "id": "48e6b175",
   "metadata": {},
   "outputs": [
    {
     "name": "stderr",
     "output_type": "stream",
     "text": [
      "C:\\Users\\Swapnil Thomare\\anaconda3\\lib\\site-packages\\sklearn\\linear_model\\_ridge.py:157: LinAlgWarning: Ill-conditioned matrix (rcond=6.99467e-25): result may not be accurate.\n",
      "  return linalg.solve(A, Xy, sym_pos=True, overwrite_a=True).T\n"
     ]
    },
    {
     "data": {
      "text/plain": [
       "Ridge(alpha=0.1)"
      ]
     },
     "execution_count": 39,
     "metadata": {},
     "output_type": "execute_result"
    }
   ],
   "source": [
    "model.fit(X_train, y_train)"
   ]
  },
  {
   "cell_type": "code",
   "execution_count": 40,
   "id": "19bc539f",
   "metadata": {},
   "outputs": [],
   "source": [
    "y_pred = model.predict(X_test)"
   ]
  },
  {
   "cell_type": "code",
   "execution_count": 41,
   "id": "ac038299",
   "metadata": {},
   "outputs": [
    {
     "data": {
      "text/plain": [
       "array([ 413859.32965641,  157581.66787152,  893303.63864546, ...,\n",
       "         12603.81119218, 1139397.83403985,  785302.58334424])"
      ]
     },
     "execution_count": 41,
     "metadata": {},
     "output_type": "execute_result"
    }
   ],
   "source": [
    "y_pred"
   ]
  },
  {
   "cell_type": "code",
   "execution_count": 42,
   "id": "3a2b8cfd",
   "metadata": {},
   "outputs": [
    {
     "name": "stdout",
     "output_type": "stream",
     "text": [
      "Scores: [0.69578967 0.69111305 0.69283513 0.70796435 0.68558957]\n",
      "Mean: 0.6946583526996768\n"
     ]
    },
    {
     "name": "stderr",
     "output_type": "stream",
     "text": [
      "C:\\Users\\Swapnil Thomare\\anaconda3\\lib\\site-packages\\sklearn\\linear_model\\_ridge.py:157: LinAlgWarning: Ill-conditioned matrix (rcond=6.98461e-25): result may not be accurate.\n",
      "  return linalg.solve(A, Xy, sym_pos=True, overwrite_a=True).T\n",
      "C:\\Users\\Swapnil Thomare\\anaconda3\\lib\\site-packages\\sklearn\\linear_model\\_ridge.py:157: LinAlgWarning: Ill-conditioned matrix (rcond=6.96609e-25): result may not be accurate.\n",
      "  return linalg.solve(A, Xy, sym_pos=True, overwrite_a=True).T\n",
      "C:\\Users\\Swapnil Thomare\\anaconda3\\lib\\site-packages\\sklearn\\linear_model\\_ridge.py:157: LinAlgWarning: Ill-conditioned matrix (rcond=6.96783e-25): result may not be accurate.\n",
      "  return linalg.solve(A, Xy, sym_pos=True, overwrite_a=True).T\n",
      "C:\\Users\\Swapnil Thomare\\anaconda3\\lib\\site-packages\\sklearn\\linear_model\\_ridge.py:157: LinAlgWarning: Ill-conditioned matrix (rcond=6.9901e-25): result may not be accurate.\n",
      "  return linalg.solve(A, Xy, sym_pos=True, overwrite_a=True).T\n",
      "C:\\Users\\Swapnil Thomare\\anaconda3\\lib\\site-packages\\sklearn\\linear_model\\_ridge.py:157: LinAlgWarning: Ill-conditioned matrix (rcond=7.04437e-25): result may not be accurate.\n",
      "  return linalg.solve(A, Xy, sym_pos=True, overwrite_a=True).T\n"
     ]
    }
   ],
   "source": [
    " #cross validation\n",
    "\n",
    "from sklearn.model_selection import cross_val_score\n",
    "\n",
    "# Use 5-fold cross validation to evaluate the model\n",
    "scores = cross_val_score(model, X, y, cv=5)\n",
    "\n",
    "# Print the average and standard deviation of the scores\n",
    "print('Scores:', scores)\n",
    "print('Mean:', scores.mean())"
   ]
  },
  {
   "cell_type": "markdown",
   "id": "959880de",
   "metadata": {},
   "source": [
    "# Lasso\n",
    "\n"
   ]
  },
  {
   "cell_type": "code",
   "execution_count": 43,
   "id": "1e7bafb3",
   "metadata": {},
   "outputs": [],
   "source": [
    "model = Lasso(alpha=0.1)\n"
   ]
  },
  {
   "cell_type": "code",
   "execution_count": 45,
   "id": "df5fec6e",
   "metadata": {},
   "outputs": [
    {
     "name": "stderr",
     "output_type": "stream",
     "text": [
      "C:\\Users\\Swapnil Thomare\\anaconda3\\lib\\site-packages\\sklearn\\linear_model\\_coordinate_descent.py:647: ConvergenceWarning: Objective did not converge. You might want to increase the number of iterations, check the scale of the features or consider increasing regularisation. Duality gap: 3.282e+14, tolerance: 2.346e+11\n",
      "  model = cd_fast.enet_coordinate_descent(\n"
     ]
    },
    {
     "data": {
      "text/plain": [
       "Lasso(alpha=0.1)"
      ]
     },
     "execution_count": 45,
     "metadata": {},
     "output_type": "execute_result"
    }
   ],
   "source": [
    "model.fit(X_train, y_train)"
   ]
  },
  {
   "cell_type": "code",
   "execution_count": 46,
   "id": "dfb6b778",
   "metadata": {},
   "outputs": [],
   "source": [
    "y_pred = model.predict(X_test)"
   ]
  },
  {
   "cell_type": "code",
   "execution_count": 47,
   "id": "ced60769",
   "metadata": {},
   "outputs": [
    {
     "data": {
      "text/plain": [
       "array([ 413910.58777744,  157535.44698238,  893251.33273298, ...,\n",
       "         12582.04462549, 1139376.95991468,  785253.54389472])"
      ]
     },
     "execution_count": 47,
     "metadata": {},
     "output_type": "execute_result"
    }
   ],
   "source": [
    "y_pred"
   ]
  },
  {
   "cell_type": "code",
   "execution_count": 48,
   "id": "8c117bfa",
   "metadata": {},
   "outputs": [
    {
     "name": "stderr",
     "output_type": "stream",
     "text": [
      "C:\\Users\\Swapnil Thomare\\anaconda3\\lib\\site-packages\\sklearn\\linear_model\\_coordinate_descent.py:647: ConvergenceWarning: Objective did not converge. You might want to increase the number of iterations, check the scale of the features or consider increasing regularisation. Duality gap: 3.093e+14, tolerance: 2.258e+11\n",
      "  model = cd_fast.enet_coordinate_descent(\n",
      "C:\\Users\\Swapnil Thomare\\anaconda3\\lib\\site-packages\\sklearn\\linear_model\\_coordinate_descent.py:647: ConvergenceWarning: Objective did not converge. You might want to increase the number of iterations, check the scale of the features or consider increasing regularisation. Duality gap: 3.106e+14, tolerance: 2.306e+11\n",
      "  model = cd_fast.enet_coordinate_descent(\n",
      "C:\\Users\\Swapnil Thomare\\anaconda3\\lib\\site-packages\\sklearn\\linear_model\\_coordinate_descent.py:647: ConvergenceWarning: Objective did not converge. You might want to increase the number of iterations, check the scale of the features or consider increasing regularisation. Duality gap: 3.261e+14, tolerance: 2.407e+11\n",
      "  model = cd_fast.enet_coordinate_descent(\n",
      "C:\\Users\\Swapnil Thomare\\anaconda3\\lib\\site-packages\\sklearn\\linear_model\\_coordinate_descent.py:647: ConvergenceWarning: Objective did not converge. You might want to increase the number of iterations, check the scale of the features or consider increasing regularisation. Duality gap: 3.262e+14, tolerance: 2.364e+11\n",
      "  model = cd_fast.enet_coordinate_descent(\n"
     ]
    },
    {
     "name": "stdout",
     "output_type": "stream",
     "text": [
      "Scores: [0.69580415 0.69111004 0.69283186 0.70794701 0.68559494]\n",
      "Mean: 0.6946575985490707\n"
     ]
    },
    {
     "name": "stderr",
     "output_type": "stream",
     "text": [
      "C:\\Users\\Swapnil Thomare\\anaconda3\\lib\\site-packages\\sklearn\\linear_model\\_coordinate_descent.py:647: ConvergenceWarning: Objective did not converge. You might want to increase the number of iterations, check the scale of the features or consider increasing regularisation. Duality gap: 3.172e+14, tolerance: 2.315e+11\n",
      "  model = cd_fast.enet_coordinate_descent(\n"
     ]
    }
   ],
   "source": [
    "#cross validation\n",
    "\n",
    "from sklearn.model_selection import cross_val_score\n",
    "\n",
    "# Use 5-fold cross validation to evaluate the model\n",
    "scores = cross_val_score(model, X, y, cv=5)\n",
    "\n",
    "# Print the average and standard deviation of the scores\n",
    "print('Scores:', scores)\n",
    "print('Mean:', scores.mean())"
   ]
  },
  {
   "cell_type": "code",
   "execution_count": null,
   "id": "ed44e8d2",
   "metadata": {},
   "outputs": [],
   "source": []
  }
 ],
 "metadata": {
  "kernelspec": {
   "display_name": "Python 3 (ipykernel)",
   "language": "python",
   "name": "python3"
  },
  "language_info": {
   "codemirror_mode": {
    "name": "ipython",
    "version": 3
   },
   "file_extension": ".py",
   "mimetype": "text/x-python",
   "name": "python",
   "nbconvert_exporter": "python",
   "pygments_lexer": "ipython3",
   "version": "3.9.13"
  }
 },
 "nbformat": 4,
 "nbformat_minor": 5
}
